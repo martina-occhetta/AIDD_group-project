{
 "cells": [
  {
   "cell_type": "markdown",
   "metadata": {},
   "source": [
    "### igraph setup\n",
    "Run this cell each time you want to use igraph in Python"
   ]
  },
  {
   "cell_type": "code",
   "execution_count": 1,
   "metadata": {},
   "outputs": [
    {
     "ename": "ModuleNotFoundError",
     "evalue": "No module named 'igraph'",
     "output_type": "error",
     "traceback": [
      "\u001b[1;31m---------------------------------------------------------------------------\u001b[0m",
      "\u001b[1;31mModuleNotFoundError\u001b[0m                       Traceback (most recent call last)",
      "\u001b[1;32mc:\\Users\\caitl\\OneDrive\\Documents\\PhD Queen Mary\\Python igraph introduction_example from Li et al (2004) network graph.ipynb Cell 2\u001b[0m in \u001b[0;36m1\n\u001b[1;32m----> <a href='vscode-notebook-cell:/c%3A/Users/caitl/OneDrive/Documents/PhD%20Queen%20Mary/Python%20igraph%20introduction_example%20from%20Li%20et%20al%20%282004%29%20network%20graph.ipynb#W1sZmlsZQ%3D%3D?line=0'>1</a>\u001b[0m \u001b[39mimport\u001b[39;00m \u001b[39migraph\u001b[39;00m \u001b[39mas\u001b[39;00m \u001b[39mig\u001b[39;00m\n\u001b[0;32m      <a href='vscode-notebook-cell:/c%3A/Users/caitl/OneDrive/Documents/PhD%20Queen%20Mary/Python%20igraph%20introduction_example%20from%20Li%20et%20al%20%282004%29%20network%20graph.ipynb#W1sZmlsZQ%3D%3D?line=1'>2</a>\u001b[0m \u001b[39mimport\u001b[39;00m \u001b[39mcairo\u001b[39;00m\n\u001b[0;32m      <a href='vscode-notebook-cell:/c%3A/Users/caitl/OneDrive/Documents/PhD%20Queen%20Mary/Python%20igraph%20introduction_example%20from%20Li%20et%20al%20%282004%29%20network%20graph.ipynb#W1sZmlsZQ%3D%3D?line=2'>3</a>\u001b[0m \u001b[39mfrom\u001b[39;00m \u001b[39migraph\u001b[39;00m \u001b[39mimport\u001b[39;00m Graph\n",
      "\u001b[1;31mModuleNotFoundError\u001b[0m: No module named 'igraph'"
     ]
    }
   ],
   "source": [
    "import igraph as ig\n",
    "import cairo\n",
    "from igraph import Graph\n",
    "from igraph import summary"
   ]
  },
  {
   "cell_type": "markdown",
   "metadata": {},
   "source": [
    "### igraph tutorial\n",
    "The following code box explains the basics of igraph:"
   ]
  },
  {
   "cell_type": "code",
   "execution_count": null,
   "metadata": {},
   "outputs": [
    {
     "name": "stdout",
     "output_type": "stream",
     "text": [
      "IGRAPH U--- 6 7 --\n",
      "+ edges:\n",
      "0--1 1--2 0--2 2--3 3--4 4--5 3--5\n"
     ]
    },
    {
     "data": {
      "image/svg+xml": [
       "<?xml version=\"1.0\" encoding=\"UTF-8\"?>\n",
       "<svg xmlns=\"http://www.w3.org/2000/svg\" xmlns:xlink=\"http://www.w3.org/1999/xlink\" width=\"600\" height=\"600\" viewBox=\"0 0 600 600\">\n",
       "<rect x=\"-60\" y=\"-60\" width=\"720\" height=\"720\" fill=\"rgb(100%, 100%, 100%)\" fill-opacity=\"1\"/>\n",
       "<path fill=\"none\" stroke-width=\"1\" stroke-linecap=\"butt\" stroke-linejoin=\"miter\" stroke=\"rgb(26.666667%, 26.666667%, 26.666667%)\" stroke-opacity=\"1\" stroke-miterlimit=\"10\" d=\"M 580 506.484375 L 329.621094 580 \"/>\n",
       "<path fill=\"none\" stroke-width=\"1\" stroke-linecap=\"butt\" stroke-linejoin=\"miter\" stroke=\"rgb(26.666667%, 26.666667%, 26.666667%)\" stroke-opacity=\"1\" stroke-miterlimit=\"10\" d=\"M 329.621094 580 L 356.914062 389.425781 \"/>\n",
       "<path fill=\"none\" stroke-width=\"1\" stroke-linecap=\"butt\" stroke-linejoin=\"miter\" stroke=\"rgb(26.666667%, 26.666667%, 26.666667%)\" stroke-opacity=\"1\" stroke-miterlimit=\"10\" d=\"M 580 506.484375 L 356.914062 389.425781 \"/>\n",
       "<path fill=\"none\" stroke-width=\"1\" stroke-linecap=\"butt\" stroke-linejoin=\"miter\" stroke=\"rgb(26.666667%, 26.666667%, 26.666667%)\" stroke-opacity=\"1\" stroke-miterlimit=\"10\" d=\"M 356.914062 389.425781 L 243.085938 210.574219 \"/>\n",
       "<path fill=\"none\" stroke-width=\"1\" stroke-linecap=\"butt\" stroke-linejoin=\"miter\" stroke=\"rgb(26.666667%, 26.666667%, 26.666667%)\" stroke-opacity=\"1\" stroke-miterlimit=\"10\" d=\"M 243.085938 210.574219 L 20 93.515625 \"/>\n",
       "<path fill=\"none\" stroke-width=\"1\" stroke-linecap=\"butt\" stroke-linejoin=\"miter\" stroke=\"rgb(26.666667%, 26.666667%, 26.666667%)\" stroke-opacity=\"1\" stroke-miterlimit=\"10\" d=\"M 20 93.515625 L 270.378906 20 \"/>\n",
       "<path fill=\"none\" stroke-width=\"1\" stroke-linecap=\"butt\" stroke-linejoin=\"miter\" stroke=\"rgb(26.666667%, 26.666667%, 26.666667%)\" stroke-opacity=\"1\" stroke-miterlimit=\"10\" d=\"M 243.085938 210.574219 L 270.378906 20 \"/>\n",
       "<path fill-rule=\"nonzero\" fill=\"rgb(100%, 0%, 0%)\" fill-opacity=\"1\" stroke-width=\"1\" stroke-linecap=\"butt\" stroke-linejoin=\"miter\" stroke=\"rgb(0%, 0%, 0%)\" stroke-opacity=\"1\" stroke-miterlimit=\"10\" d=\"M 590 506.484375 C 590 512.007812 585.523438 516.484375 580 516.484375 C 574.476562 516.484375 570 512.007812 570 506.484375 C 570 500.960938 574.476562 496.484375 580 496.484375 C 585.523438 496.484375 590 500.960938 590 506.484375 \"/>\n",
       "<path fill-rule=\"nonzero\" fill=\"rgb(100%, 0%, 0%)\" fill-opacity=\"1\" stroke-width=\"1\" stroke-linecap=\"butt\" stroke-linejoin=\"miter\" stroke=\"rgb(0%, 0%, 0%)\" stroke-opacity=\"1\" stroke-miterlimit=\"10\" d=\"M 339.621094 580 C 339.621094 585.523438 335.144531 590 329.621094 590 C 324.097656 590 319.621094 585.523438 319.621094 580 C 319.621094 574.476562 324.097656 570 329.621094 570 C 335.144531 570 339.621094 574.476562 339.621094 580 \"/>\n",
       "<path fill-rule=\"nonzero\" fill=\"rgb(100%, 0%, 0%)\" fill-opacity=\"1\" stroke-width=\"1\" stroke-linecap=\"butt\" stroke-linejoin=\"miter\" stroke=\"rgb(0%, 0%, 0%)\" stroke-opacity=\"1\" stroke-miterlimit=\"10\" d=\"M 366.914062 389.425781 C 366.914062 394.949219 362.4375 399.425781 356.914062 399.425781 C 351.394531 399.425781 346.914062 394.949219 346.914062 389.425781 C 346.914062 383.902344 351.394531 379.425781 356.914062 379.425781 C 362.4375 379.425781 366.914062 383.902344 366.914062 389.425781 \"/>\n",
       "<path fill-rule=\"nonzero\" fill=\"rgb(100%, 0%, 0%)\" fill-opacity=\"1\" stroke-width=\"1\" stroke-linecap=\"butt\" stroke-linejoin=\"miter\" stroke=\"rgb(0%, 0%, 0%)\" stroke-opacity=\"1\" stroke-miterlimit=\"10\" d=\"M 253.085938 210.574219 C 253.085938 216.097656 248.605469 220.574219 243.085938 220.574219 C 237.5625 220.574219 233.085938 216.097656 233.085938 210.574219 C 233.085938 205.050781 237.5625 200.574219 243.085938 200.574219 C 248.605469 200.574219 253.085938 205.050781 253.085938 210.574219 \"/>\n",
       "<path fill-rule=\"nonzero\" fill=\"rgb(100%, 0%, 0%)\" fill-opacity=\"1\" stroke-width=\"1\" stroke-linecap=\"butt\" stroke-linejoin=\"miter\" stroke=\"rgb(0%, 0%, 0%)\" stroke-opacity=\"1\" stroke-miterlimit=\"10\" d=\"M 30 93.515625 C 30 99.039062 25.523438 103.515625 20 103.515625 C 14.476562 103.515625 10 99.039062 10 93.515625 C 10 87.992188 14.476562 83.515625 20 83.515625 C 25.523438 83.515625 30 87.992188 30 93.515625 \"/>\n",
       "<path fill-rule=\"nonzero\" fill=\"rgb(100%, 0%, 0%)\" fill-opacity=\"1\" stroke-width=\"1\" stroke-linecap=\"butt\" stroke-linejoin=\"miter\" stroke=\"rgb(0%, 0%, 0%)\" stroke-opacity=\"1\" stroke-miterlimit=\"10\" d=\"M 280.378906 20 C 280.378906 25.523438 275.902344 30 270.378906 30 C 264.855469 30 260.378906 25.523438 260.378906 20 C 260.378906 14.476562 264.855469 10 270.378906 10 C 275.902344 10 280.378906 14.476562 280.378906 20 \"/>\n",
       "</svg>\n"
      ],
      "text/plain": [
       "<igraph.drawing.cairo.plot.CairoPlot at 0x23f941d0e30>"
      ]
     },
     "execution_count": 2,
     "metadata": {
      "image/svg+xml": {
       "isolated": true
      }
     },
     "output_type": "execute_result"
    }
   ],
   "source": [
    "##create an empty graph\n",
    "g = Graph()\n",
    "\n",
    "#add vertices to the graph\n",
    "g.add_vertices(3)\n",
    "\n",
    "#add edges to the graph by referring to vertices\n",
    "g.add_edges([(0,1), (1, 2)])\n",
    "\n",
    "#add further vertices and edges to the graph\n",
    "g.add_edges([(2, 0)])\n",
    "g.add_vertices(3)\n",
    "g.add_edges([(2, 3), (3, 4), (4, 5), (5, 3)])\n",
    "print(g)\n",
    "\n",
    "#print the currently undirected graph with 6 vertices (0 to 5) and 7 edges\n",
    "ig.plot(g)\n",
    "\n",
    "#get ID of edge from the IDs of two vertices at its endpoints\n",
    "#print('ID of edge:', g.get_eid(2, 3))\n",
    "\n",
    "#delete the identified edge\n",
    "#g.delete_edges(3)\n",
    "#summary(g)"
   ]
  },
  {
   "cell_type": "markdown",
   "metadata": {},
   "source": [
    "### Simulating Li et al. (2004) cell cycle network (p.4782)"
   ]
  },
  {
   "cell_type": "code",
   "execution_count": 2,
   "metadata": {},
   "outputs": [
    {
     "ename": "NameError",
     "evalue": "name 'Graph' is not defined",
     "output_type": "error",
     "traceback": [
      "\u001b[1;31m---------------------------------------------------------------------------\u001b[0m",
      "\u001b[1;31mNameError\u001b[0m                                 Traceback (most recent call last)",
      "\u001b[1;32mc:\\Users\\caitl\\OneDrive\\Documents\\PhD Queen Mary\\Python igraph introduction_example from Li et al (2004) network graph.ipynb Cell 6\u001b[0m in \u001b[0;36m1\n\u001b[1;32m----> <a href='vscode-notebook-cell:/c%3A/Users/caitl/OneDrive/Documents/PhD%20Queen%20Mary/Python%20igraph%20introduction_example%20from%20Li%20et%20al%20%282004%29%20network%20graph.ipynb#W5sZmlsZQ%3D%3D?line=0'>1</a>\u001b[0m li_net \u001b[39m=\u001b[39m Graph([(\u001b[39m0\u001b[39m,\u001b[39m1\u001b[39m), (\u001b[39m1\u001b[39m,\u001b[39m2\u001b[39m), (\u001b[39m2\u001b[39m,\u001b[39m3\u001b[39m), (\u001b[39m3\u001b[39m,\u001b[39m4\u001b[39m), (\u001b[39m4\u001b[39m,\u001b[39m5\u001b[39m), (\u001b[39m5\u001b[39m,\u001b[39m6\u001b[39m), (\u001b[39m7\u001b[39m,\u001b[39m6\u001b[39m), (\u001b[39m7\u001b[39m,\u001b[39m8\u001b[39m), (\u001b[39m9\u001b[39m,\u001b[39m8\u001b[39m), (\u001b[39m10\u001b[39m,\u001b[39m9\u001b[39m), (\u001b[39m1\u001b[39m,\u001b[39m10\u001b[39m),\n\u001b[0;32m      <a href='vscode-notebook-cell:/c%3A/Users/caitl/OneDrive/Documents/PhD%20Queen%20Mary/Python%20igraph%20introduction_example%20from%20Li%20et%20al%20%282004%29%20network%20graph.ipynb#W5sZmlsZQ%3D%3D?line=1'>2</a>\u001b[0m                 (\u001b[39m11\u001b[39m,\u001b[39m2\u001b[39m), (\u001b[39m4\u001b[39m,\u001b[39m11\u001b[39m), (\u001b[39m5\u001b[39m,\u001b[39m11\u001b[39m), (\u001b[39m11\u001b[39m,\u001b[39m5\u001b[39m), (\u001b[39m11\u001b[39m,\u001b[39m6\u001b[39m), (\u001b[39m8\u001b[39m,\u001b[39m11\u001b[39m), (\u001b[39m11\u001b[39m,\u001b[39m8\u001b[39m), (\u001b[39m11\u001b[39m,\u001b[39m10\u001b[39m),\n\u001b[0;32m      <a href='vscode-notebook-cell:/c%3A/Users/caitl/OneDrive/Documents/PhD%20Queen%20Mary/Python%20igraph%20introduction_example%20from%20Li%20et%20al%20%282004%29%20network%20graph.ipynb#W5sZmlsZQ%3D%3D?line=2'>3</a>\u001b[0m                 (\u001b[39m3\u001b[39m,\u001b[39m12\u001b[39m), (\u001b[39m12\u001b[39m,\u001b[39m3\u001b[39m), (\u001b[39m6\u001b[39m,\u001b[39m12\u001b[39m), (\u001b[39m7\u001b[39m,\u001b[39m12\u001b[39m), (\u001b[39m9\u001b[39m,\u001b[39m12\u001b[39m),\n\u001b[0;32m      <a href='vscode-notebook-cell:/c%3A/Users/caitl/OneDrive/Documents/PhD%20Queen%20Mary/Python%20igraph%20introduction_example%20from%20Li%20et%20al%20%282004%29%20network%20graph.ipynb#W5sZmlsZQ%3D%3D?line=3'>4</a>\u001b[0m                 (\u001b[39m13\u001b[39m,\u001b[39m3\u001b[39m), (\u001b[39m5\u001b[39m,\u001b[39m13\u001b[39m),\n\u001b[0;32m      <a href='vscode-notebook-cell:/c%3A/Users/caitl/OneDrive/Documents/PhD%20Queen%20Mary/Python%20igraph%20introduction_example%20from%20Li%20et%20al%20%282004%29%20network%20graph.ipynb#W5sZmlsZQ%3D%3D?line=4'>5</a>\u001b[0m                 (\u001b[39m14\u001b[39m,\u001b[39m4\u001b[39m),\n\u001b[0;32m      <a href='vscode-notebook-cell:/c%3A/Users/caitl/OneDrive/Documents/PhD%20Queen%20Mary/Python%20igraph%20introduction_example%20from%20Li%20et%20al%20%282004%29%20network%20graph.ipynb#W5sZmlsZQ%3D%3D?line=5'>6</a>\u001b[0m                 (\u001b[39m13\u001b[39m,\u001b[39m15\u001b[39m), (\u001b[39m16\u001b[39m,\u001b[39m15\u001b[39m), (\u001b[39m15\u001b[39m,\u001b[39m7\u001b[39m),\n\u001b[0;32m      <a href='vscode-notebook-cell:/c%3A/Users/caitl/OneDrive/Documents/PhD%20Queen%20Mary/Python%20igraph%20introduction_example%20from%20Li%20et%20al%20%282004%29%20network%20graph.ipynb#W5sZmlsZQ%3D%3D?line=6'>7</a>\u001b[0m                 (\u001b[39m3\u001b[39m,\u001b[39m8\u001b[39m),\n\u001b[0;32m      <a href='vscode-notebook-cell:/c%3A/Users/caitl/OneDrive/Documents/PhD%20Queen%20Mary/Python%20igraph%20introduction_example%20from%20Li%20et%20al%20%282004%29%20network%20graph.ipynb#W5sZmlsZQ%3D%3D?line=7'>8</a>\u001b[0m                 (\u001b[39m17\u001b[39m,\u001b[39m13\u001b[39m), (\u001b[39m11\u001b[39m,\u001b[39m12\u001b[39m), (\u001b[39m12\u001b[39m,\u001b[39m11\u001b[39m), (\u001b[39m11\u001b[39m,\u001b[39m13\u001b[39m), (\u001b[39m13\u001b[39m,\u001b[39m11\u001b[39m)],\n\u001b[0;32m      <a href='vscode-notebook-cell:/c%3A/Users/caitl/OneDrive/Documents/PhD%20Queen%20Mary/Python%20igraph%20introduction_example%20from%20Li%20et%20al%20%282004%29%20network%20graph.ipynb#W5sZmlsZQ%3D%3D?line=8'>9</a>\u001b[0m                 directed\u001b[39m=\u001b[39m\u001b[39mTrue\u001b[39;00m)\n\u001b[0;32m     <a href='vscode-notebook-cell:/c%3A/Users/caitl/OneDrive/Documents/PhD%20Queen%20Mary/Python%20igraph%20introduction_example%20from%20Li%20et%20al%20%282004%29%20network%20graph.ipynb#W5sZmlsZQ%3D%3D?line=9'>10</a>\u001b[0m layout \u001b[39m=\u001b[39m li_net\u001b[39m.\u001b[39mlayout_circle()\n\u001b[0;32m     <a href='vscode-notebook-cell:/c%3A/Users/caitl/OneDrive/Documents/PhD%20Queen%20Mary/Python%20igraph%20introduction_example%20from%20Li%20et%20al%20%282004%29%20network%20graph.ipynb#W5sZmlsZQ%3D%3D?line=10'>11</a>\u001b[0m \u001b[39mprint\u001b[39m(li_net)\n",
      "\u001b[1;31mNameError\u001b[0m: name 'Graph' is not defined"
     ]
    }
   ],
   "source": [
    "\n",
    "li_net = Graph([(0,1), (1,2), (2,3), (3,4), (4,5), (5,6), (7,6), (7,8), (9,8), (10,9), (1,10),\n",
    "                (11,2), (4,11), (5,11), (11,5), (11,6), (8,11), (11,8), (11,10),\n",
    "                (3,12), (12,3), (6,12), (7,12), (9,12),\n",
    "                (13,3), (5,13),\n",
    "                (14,4),\n",
    "                (13,15), (16,15), (15,7),\n",
    "                (3,8),\n",
    "                (17,13), (11,12), (12,11), (11,13), (13,11)],\n",
    "                directed=True)\n",
    "layout = li_net.layout_circle()\n",
    "print(li_net)\n",
    "ig.plot(li_net, \n",
    "        layout = layout, \n",
    "        vertex_label = [\"Cell size\", \"Cln3\", \"MBF\", \"Clb5,6\", \"DNA replication\", \"Mcm1/SFF\", \"Swi5\", \"Cdc14\", \"Cdh1\", \"Cln1,2\", \"SBF\", \"Clb1,2\", \"Sic1\", \"Cdc20\", \"Inter-S checkpoint\", \"Pds1\", \"DNA damage checkpoint\", \"Spindle checkpoint\"],\n",
    "        vertex_color = [\"#f584eb\", \"#d1ce6f\", \"#d1ce6f\", \"#d1ce6f\", \"#eb789c\", \"#d1ce6f\", \"#d1ce6f\", \"#d1ce6f\", \"#d1ce6f\", \"#d1ce6f\", \"#d1ce6f\", \"#d1ce6f\", \"#d1ce6f\", \"#f584eb\", \"#d1ce6f\", \"#f584eb\", \"#f584eb\"],\n",
    "        edge_color = [\"#1a781f\", \"#1a781f\", \"#1a781f\", \"#1a781f\", \"#5a3ee6\", \"#f23c35\",\"#1a781f\",\"#1a781f\",\"#f23c35\",\"#1a781f\",\"#1a781f\",\"#f23c35\",\"#5a3ee6\",\"#1a781f\",\"#1a781f\",\"#f23c35\",\"#f23c35\",\"#f23c35\",\"#f23c35\",\n",
    "                      \"#f23c35\",\"#f23c35\",\"#1a781f\",\"#1a781f\",\"#f23c35\",\"#f23c35\",\"#1a781f\",\"#f23c35\",\"#f23c35\",\"#1a781f\",\"#f23c35\",\"#f23c35\",\"#f23c35\",\"#f23c35\",\"#f23c35\",\"#1a781f\",\"#f23c35\"])"
   ]
  },
  {
   "cell_type": "code",
   "execution_count": null,
   "metadata": {},
   "outputs": [],
   "source": []
  }
 ],
 "metadata": {
  "kernelspec": {
   "display_name": "Python 3",
   "language": "python",
   "name": "python3"
  },
  "language_info": {
   "codemirror_mode": {
    "name": "ipython",
    "version": 3
   },
   "file_extension": ".py",
   "mimetype": "text/x-python",
   "name": "python",
   "nbconvert_exporter": "python",
   "pygments_lexer": "ipython3",
   "version": "3.10.2"
  },
  "orig_nbformat": 4
 },
 "nbformat": 4,
 "nbformat_minor": 2
}
