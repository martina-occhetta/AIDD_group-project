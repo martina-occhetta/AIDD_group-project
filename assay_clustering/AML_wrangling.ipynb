{
 "cells": [
  {
   "cell_type": "code",
   "execution_count": 1,
   "id": "5d335a7b-3045-4480-9d6e-fcfa64ffa995",
   "metadata": {},
   "outputs": [],
   "source": [
    "# Imports\n",
    "import numpy as np\n",
    "import pandas as pd\n",
    "import os\n",
    "from os import listdir\n",
    "from os.path import isfile, join\n",
    "from pathlib import Path"
   ]
  },
  {
   "cell_type": "markdown",
   "id": "eb162f01-c684-4aeb-9aa8-f7088f2b5da2",
   "metadata": {},
   "source": [
    "## All AML assays from assay_infos_filed_by_compound_using_api"
   ]
  },
  {
   "cell_type": "code",
   "execution_count": 2,
   "id": "b184bb68-5611-4074-99b0-a8c73dff9d9b",
   "metadata": {},
   "outputs": [],
   "source": [
    "# get current working directory\n",
    "cwd = os.getcwd()\n",
    "# find path to assay data directory\n",
    "full_path = cwd\n",
    "assay_info_subdirectory = \"/Get_surrounding_assay_from_ChEMBL/assay_infos_filed_by_compound_using_api/\"\n",
    "assay_info_dir = str(Path(full_path).parents[0]) + assay_info_subdirectory  # path to group project folder + assay info\n",
    "# create a list of filenames in assay data directory\n",
    "file_list = [f for f in listdir(assay_info_dir) if isfile(join(assay_info_dir, f))]"
   ]
  },
  {
   "cell_type": "code",
   "execution_count": 3,
   "id": "adfb5e38-d35c-47a0-acce-33694f6b2f47",
   "metadata": {},
   "outputs": [],
   "source": [
    "# dictionary to store all dataframes\n",
    "AML_assay_dict = {}\n",
    "# loop read_csv to store every csv as a dataframe in dictionary\n",
    "for filename in file_list:\n",
    "    assay_df = pd.read_csv(f\"{assay_info_dir}/{filename}\",sep=\";\")\n",
    "    AML_assay_dict[filename] = assay_df  # new key, add\n",
    "    \n",
    "# concatenate dataframes into single dataframe and sort by assay chEMBL ID\n",
    "all_assays = pd.concat(AML_assay_dict.values(), ignore_index=True)\n",
    "all_assays = all_assays.sort_values(by=\"assay_chembl_id\")\n",
    "#all_assays = all_assays.drop_duplicates(subset=\"assay_chembl_id\")\n",
    "# export as csv\n",
    "all_assays.to_csv(\"AML_assay_data_api.csv\", index=False)"
   ]
  },
  {
   "cell_type": "markdown",
   "id": "b01f754f-76fa-4bf4-9199-bc7b6734e7ba",
   "metadata": {},
   "source": [
    "## All AML assays from assay_infos_filed_by_compound"
   ]
  },
  {
   "cell_type": "code",
   "execution_count": 4,
   "id": "92a13130-0f62-41f9-85af-12e18fd2f620",
   "metadata": {},
   "outputs": [],
   "source": [
    "# get current working directory\n",
    "cwd = os.getcwd()\n",
    "# find path to assay data directory\n",
    "full_path = cwd\n",
    "assay_info_subdirectory = \"/Get_surrounding_assay_from_ChEMBL/assay_infos_filed_by_compound/\"\n",
    "assay_info_dir = str(Path(full_path).parents[0]) + assay_info_subdirectory  # path to group project folder + assay info\n",
    "# create a list of filenames in assay data directory\n",
    "file_list = [f for f in listdir(assay_info_dir) if isfile(join(assay_info_dir, f))]"
   ]
  },
  {
   "cell_type": "code",
   "execution_count": 5,
   "id": "360e931b-3395-4369-8f4a-b12204f5a620",
   "metadata": {},
   "outputs": [],
   "source": [
    "# dictionary to store all dataframes\n",
    "AML_assay_dict = {}\n",
    "# loop read_csv to store every csv as a dataframe in dictionary\n",
    "for filename in file_list:\n",
    "    assay_df = pd.read_csv(f\"{assay_info_dir}/{filename}\",sep=\";\")\n",
    "    AML_assay_dict[filename] = assay_df  # new key, add\n",
    "\n",
    "# concatenate dataframes into single dataframe and sort by assay chEMBL ID\n",
    "all_assays = pd.concat(AML_assay_dict.values(), ignore_index=True)\n",
    "all_assays = all_assays.sort_values(by=\"ChEMBL ID\")\n",
    "#all_assays = all_assays.drop_duplicates(subset=\"assay_chembl_id\")\n",
    "# export as csv\n",
    "all_assays.to_csv(\"AML_assay_data.csv\", index=False)"
   ]
  }
 ],
 "metadata": {
  "kernelspec": {
   "display_name": "Python 3 (ipykernel)",
   "language": "python",
   "name": "python3"
  },
  "language_info": {
   "codemirror_mode": {
    "name": "ipython",
    "version": 3
   },
   "file_extension": ".py",
   "mimetype": "text/x-python",
   "name": "python",
   "nbconvert_exporter": "python",
   "pygments_lexer": "ipython3",
   "version": "3.9.12"
  }
 },
 "nbformat": 4,
 "nbformat_minor": 5
}
