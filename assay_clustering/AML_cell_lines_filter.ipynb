{
 "cells": [
  {
   "cell_type": "code",
   "execution_count": 157,
   "id": "b03f3956-84aa-4c82-91b0-ca26a1df1c40",
   "metadata": {},
   "outputs": [],
   "source": [
    "import numpy as np\n",
    "import pandas as pd\n",
    "# additional filter for subset_col\n",
    "AML_cell_lines = pd.read_csv(\"cell-line-selector.csv\")['displayName'].to_list()\n",
    "AML_cell_lines.sort()"
   ]
  },
  {
   "cell_type": "markdown",
   "id": "5a99c1b3-cd20-424a-b76f-38ac109df2f2",
   "metadata": {},
   "source": [
    "## Create list of synonyms dictionary"
   ]
  },
  {
   "cell_type": "code",
   "execution_count": 66,
   "id": "b8b79146-43d2-4fba-9ab5-d746a1ec16c7",
   "metadata": {},
   "outputs": [],
   "source": [
    "with open(\"cellosaurus.txt\") as f:\n",
    "    content_list = f.readlines()\n",
    "\n",
    "# print the list\n",
    "#print(content_list[:50])\n",
    "\n",
    "# remove new line characters\n",
    "content_list = [x.strip() for x in content_list]\n",
    "#print(content_list[:50])"
   ]
  },
  {
   "cell_type": "code",
   "execution_count": 67,
   "id": "c0a4f92f-e622-4e08-a59e-c826c758e579",
   "metadata": {},
   "outputs": [],
   "source": [
    "# extract cell line names\n",
    "cellosaurus_names = []\n",
    "\n",
    "for line in content_list:\n",
    "    if \"ID   \" in line:\n",
    "            ID = line.replace(\"ID   \",\"\")\n",
    "            cellosaurus_names.append([\"ID\",ID])\n",
    "    if \"SY   \" in line:\n",
    "            SY = line.replace(\"SY   \",\"\")\n",
    "            cellosaurus_names.append([\"SY\",SY])"
   ]
  },
  {
   "cell_type": "code",
   "execution_count": 68,
   "id": "f5f9bf3f-7acc-46ab-b5d3-fa392ef84708",
   "metadata": {},
   "outputs": [],
   "source": [
    "# remove cell line names with no synonyms\n",
    "cellosaurus_names_2 = []\n",
    "for ind, line in enumerate(cellosaurus_names):\n",
    "    if line[0] == \"SY\":\n",
    "        continue\n",
    "    if ind == len(cellosaurus_names) -1:\n",
    "        break\n",
    "    if cellosaurus_names[ind+1][0] == \"SY\":\n",
    "        cellosaurus_names_2.append(line)\n",
    "        cellosaurus_names_2.append(cellosaurus_names[ind+1])"
   ]
  },
  {
   "cell_type": "code",
   "execution_count": 83,
   "id": "f7524890-3d56-484b-ae19-d11cca034588",
   "metadata": {},
   "outputs": [],
   "source": [
    "# create dictionary mapping main cell line identifier to list of synonyms\n",
    "cellosaurus_dict = {}\n",
    "for line in cellosaurus_names_2:\n",
    "    if line[0] == \"SY\":\n",
    "        continue\n",
    "    if line[0] == \"ID\":\n",
    "        ID_ind = cellosaurus_names_2.index(line)\n",
    "        SY_ind = ID_ind + 1\n",
    "        \n",
    "        ID = line[1]\n",
    "        \n",
    "        synonyms = cellosaurus_names_2[SY_ind]\n",
    "        synonyms = synonyms[1].split(\";\")\n",
    "        synonyms = [x.strip(' ') for x in synonyms]\n",
    "        \n",
    "        cellosaurus_dict[ID] = synonyms"
   ]
  },
  {
   "cell_type": "code",
   "execution_count": 92,
   "id": "279872ab-6487-4946-9672-fef85c9d5ead",
   "metadata": {},
   "outputs": [],
   "source": [
    "# create csv for storage\n",
    "cellosaurus_df = pd.DataFrame([cellosaurus_dict.keys(),cellosaurus_dict.values()]).T\n",
    "cellosaurus_df.columns = [\"ID\",\"synonyms\"]\n",
    "cellosaurus_df.to_csv(\"cellosaurus_synonyms.csv\",index=False)"
   ]
  },
  {
   "cell_type": "markdown",
   "id": "cb4d28c2-f695-4efb-bdbb-fa033cb9ff7b",
   "metadata": {},
   "source": [
    "## Find all possible AML cell line synonyms"
   ]
  },
  {
   "cell_type": "code",
   "execution_count": 158,
   "id": "502f2da1-ff74-432f-90ce-b7680d4b74ea",
   "metadata": {},
   "outputs": [
    {
     "name": "stdout",
     "output_type": "stream",
     "text": [
      "['AML-193', 'AML-193', 'AML193']\n",
      "['BDCM', 'BDCM', 'B-cell with DC Morphology']\n",
      "['CESS', 'CESS', 'Cess']\n",
      "['CMK-11-5', 'CMK-11-5', 'CMK 11-5', 'CMK11-5', 'CMK115']\n",
      "['CMK-86', 'CMK-86', 'CMK86']\n",
      "['GDM-1', 'GDM-1', 'GDM1']\n",
      "['HD-MY-Z', 'HD-MY-Z', 'HD-MyZ', 'HDMYZ']\n",
      "['HEL', 'HEL', 'Hel', 'GM06141', 'GM06141B', 'Human ErythroLeukemia']\n",
      "['HEL-30', 'HEL-30', 'Hel-30', 'HEL/30', 'HEL30', 'HEL', 'c3H-Epidermal cell Line-30']\n",
      "['HEL 92.1.7', 'HEL 92.1.7', 'HEL92.1.7', 'HEL-92.1.7', 'HEL-92-1-7', 'HEL-92_1_7', 'HEL-92', 'HEL9217']\n",
      "['HL-60', 'HL-60', 'HL 60', 'HL.60', 'HL60', 'Human Leukemia-60']\n",
      "['HNT-34', 'HNT-34', 'HNT34']\n",
      "['Kasumi-1', 'Kasumi-1', 'KASUMI-1', 'Kasumi 1', 'KASUMI1', 'Kasumi1']\n",
      "['Kasumi-6', 'Kasumi-6', 'KASUMI-6', 'KASUMI6']\n",
      "['KG-1', 'KG-1', 'KG1']\n",
      "['KG1', 'KG1', 'Kidney-Gli1']\n",
      "['KMOE-2', 'KMOE-2', 'KMOE2', 'Kmoe2']\n",
      "['KO52', 'KO52', 'K052', 'K-052']\n",
      "['KY821', 'KY821', 'KY-821']\n",
      "['M-07e', 'M-07e', 'M-07E', 'M-O7e', 'M07-e', 'M07e', 'Mo7e', 'MO7e', 'M07E', 'MO7E']\n",
      "['ME-1 [Human leukemia]', 'ME-1 [Human leukemia]', 'ME1']\n",
      "['ME1', 'ME1', 'ME-1']\n",
      "['ML-2', 'ML-2', 'ML2']\n",
      "['MOLM-13', 'MOLM-13', 'MOLM13', 'Molm13', 'Molm 13']\n",
      "['MOLM-14', 'MOLM-14', 'Molm-14', 'Molm 14', 'Molm14', 'MOLM14']\n",
      "['MOLM-16', 'MOLM-16', 'MOLM16']\n",
      "['Mono-Mac-1', 'Mono-Mac-1', 'MONO-MAC-1', 'Mono Mac 1', 'Monomac-1', 'MONOMAC-1', 'MonoMac1', 'MONOMAC1', 'MM1']\n",
      "['Mono-Mac-6', 'Mono-Mac-6', 'MONO-MAC-6', 'Mono-mac-6', 'MONO-MAC 6', 'Mono Mac 6', 'Mono Mac6', 'MonoMac 6', 'MonoMac6', 'MONOMAC6', 'MM6']\n",
      "['MUTZ-3', 'MUTZ-3', 'Mutz-3', 'MUTZ3', 'Mutz3', 'Menschliche Und Tierische Zellkulture-3']\n",
      "['MUTZ-8', 'MUTZ-8', 'MUTZ8', 'Menschliche Und Tierische Zellkulture-8']\n",
      "['MV4-11', 'MV4-11', 'MV-4-11', 'MV-4:11', 'MV4:11', 'MV 4', '11', 'MV4', '11', 'MV411', 'MV(4', '11)', 'MV4II']\n",
      "['NB4', 'NB4', 'NB-4', 'NB.4']\n",
      "['SJNB-4', 'SJNB-4', 'SJNB4', 'SJNB-4(SD)', 'NB4', 'NB4-DH']\n",
      "['NKM-1', 'NKM-1', 'NKM1']\n",
      "['NOMO-1', 'NOMO-1', 'Nomo-1', 'NOMO1']\n",
      "['OCI-AML-2', 'OCI-AML-2', 'OCI/AML-2', 'OCIAML-2', 'OCI-AML2', 'OCI/AML2', 'OCI AML2', 'OCIAML2', 'AML-2', 'Ontario Cancer Institute-Acute Myeloid Leukemia-2']\n",
      "['OCI-AML-3', 'OCI-AML-3', 'OCI-Aml-3', 'OCI/AML-3', 'OCI-AML3', 'OCI/AML3', 'OCI AML3', 'OCIAML3', 'Ontario Cancer Institute-Acute Myeloid Leukemia-3']\n",
      "['OCI-AML-4', 'OCI-AML-4', 'OCI/AML-4', 'OCI-AML4', 'OCI/AML4', 'OCI AML4', 'OCIAML4', 'Ontario Cancer Institute-Acute Myeloid Leukemia-4']\n",
      "['OCI-AML-5', 'OCI-AML-5', 'OCI/AML-5', 'OCI-AML5', 'OCI/AML5', 'OCI AML5', 'OCIAML5', 'Ontario Cancer Institute-Acute Myeloid Leukemia-5']\n",
      "['OCI-M1', 'OCI-M1', 'OCI M1', 'OCIM1']\n",
      "['OCI-M2', 'OCI-M2', 'OCI M2', 'OCIM2']\n",
      "['P31/FUJ', 'P31/FUJ', 'P31-FUJ', 'P31 FUJ', 'P31FUJ', 'P-31:FUJ', 'P31/Fujioka']\n",
      "['PL-21', 'PL-21', 'PL21']\n",
      "['TS 0129', 'TS 0129', 'TS0129', 'Pa22C', 'Pa022C', 'PL21']\n",
      "['PLB-985', 'PLB-985', 'PLB 985', 'PLB985']\n",
      "['QIMR-WIL', 'QIMR-WIL', 'QIMRWIL', 'WIL']\n",
      "['SET-2', 'SET-2', 'Set-2', 'Set2', 'SET2']\n",
      "['SHI-1', 'SHI-1', 'shi-1', 'SHI1']\n",
      "['SIG-M5', 'SIG-M5', 'SigM5', 'SIGM5']\n",
      "['SKM-1', 'SKM-1', 'SKM1']\n",
      "['SKNO-1', 'SKNO-1', 'Skno-1', 'SKNO1']\n",
      "['TF-1', 'TF-1', 'TF1', 'MFD-1']\n",
      "['THP-1', 'THP-1', 'THP1', 'THP 1', 'THPI', 'THP-1(ATCC)', 'THP-1-O', 'O-THP-1', 'Tohoku Hospital Pediatrics-1']\n",
      "['TUR', 'TUR', 'TPA-U937-resistant']\n",
      "['U-937', 'U-937', 'U937', 'U 937']\n",
      "['UT-7', 'UT-7', 'UT7']\n"
     ]
    }
   ],
   "source": [
    "AML_all_synonyms = []\n",
    "\n",
    "# loop AML cell line name from DepMap\n",
    "for AML_cell in AML_cell_lines:\n",
    "    #loop through synonyms dictionary\n",
    "    for key in cellosaurus_dict:\n",
    "        synonyms = cellosaurus_dict[key]\n",
    "        \n",
    "        # check if cell name matches key\n",
    "        if AML_cell == key:\n",
    "            synonyms.insert(0, key)\n",
    "            #print(\"matched by key\")\n",
    "            print(synonyms)\n",
    "            # append to list of synonyms\n",
    "            AML_all_synonyms.append(synonyms)\n",
    "            \n",
    "        # check if cell name is in synonym values\n",
    "        elif AML_cell in synonyms:\n",
    "            synonyms.insert(0, key)\n",
    "            #print(\"matched by synonyms\")\n",
    "            print(synonyms)\n",
    "            # append to list of synonyms\n",
    "            AML_all_synonyms.append(synonyms)"
   ]
  },
  {
   "cell_type": "code",
   "execution_count": 159,
   "id": "05d8033e-299f-4b51-8fa7-87e32861ba96",
   "metadata": {},
   "outputs": [],
   "source": [
    "# flatten list of lists\n",
    "AML_all_synonyms_ = sum(AML_all_synonyms, [])\n",
    "# remove duplicates\n",
    "AML_all_synonyms_ = list(set(AML_all_synonyms_))"
   ]
  },
  {
   "cell_type": "markdown",
   "id": "ab9fe4e9-7208-41d9-adac-78c84e7b2c6f",
   "metadata": {},
   "source": [
    "## Filter AML cell lines"
   ]
  },
  {
   "cell_type": "code",
   "execution_count": 146,
   "id": "45a7f087-e8ee-451f-bfe1-e7d81a5f77c9",
   "metadata": {},
   "outputs": [],
   "source": [
    "AML_cell_lines_search = AML_all_synonyms_"
   ]
  },
  {
   "cell_type": "code",
   "execution_count": 140,
   "id": "7ad229a4-adb8-4ce8-993d-62e665333fbb",
   "metadata": {},
   "outputs": [],
   "source": [
    "# import dataset and extract cell types\n",
    "assay_data = pd.read_csv(\"AML_assays_with_embeddings.csv\")\n",
    "unique_cells = assay_data[\"Cell Type\"].unique().tolist()\n",
    "unique_cells_ = [cell for cell in unique_cells if isinstance(cell, str)]\n",
    "unique_cells_.sort()"
   ]
  },
  {
   "cell_type": "code",
   "execution_count": 171,
   "id": "96aca946-ae93-4ab9-8153-dc96f467bad8",
   "metadata": {},
   "outputs": [],
   "source": [
    "# overlap of chEMBL cell types and cellosaurus synonyms for AML cell lines from DepMap\n",
    "AML_cell_types = list(set(unique_cells_) & set(AML_all_synonyms_))\n",
    "AML_cell_types"
   ]
  },
  {
   "cell_type": "code",
   "execution_count": 175,
   "id": "9c64fcf2-ce9f-4f98-8b2a-1b3b848cb102",
   "metadata": {},
   "outputs": [],
   "source": [
    "pd.DataFrame(AML_cell_types).to_csv(\"AML_cell_types.csv\",index=False)"
   ]
  }
 ],
 "metadata": {
  "kernelspec": {
   "display_name": "Python 3 (ipykernel)",
   "language": "python",
   "name": "python3"
  },
  "language_info": {
   "codemirror_mode": {
    "name": "ipython",
    "version": 3
   },
   "file_extension": ".py",
   "mimetype": "text/x-python",
   "name": "python",
   "nbconvert_exporter": "python",
   "pygments_lexer": "ipython3",
   "version": "3.9.12"
  }
 },
 "nbformat": 4,
 "nbformat_minor": 5
}
