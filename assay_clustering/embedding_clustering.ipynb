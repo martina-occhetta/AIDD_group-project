{
 "cells": [
  {
   "cell_type": "code",
   "execution_count": 1,
   "id": "cc7b06ec-e3d3-4567-a92d-57b706288147",
   "metadata": {},
   "outputs": [],
   "source": [
    "import numpy as np\n",
    "import pandas as pd\n",
    "from sklearn.metrics.pairwise import cosine_similarity\n",
    "import matplotlib.pyplot as plt\n",
    "import scipy.cluster.hierarchy as sch\n",
    "from math import sqrt\n",
    "from functions import *"
   ]
  },
  {
   "cell_type": "code",
   "execution_count": 2,
   "id": "eb335db6-1af6-4568-bc2b-88d5e5a1cfa3",
   "metadata": {},
   "outputs": [],
   "source": [
    "# import dataset\n",
    "assay_data = pd.read_csv(\"AML_assays_with_embeddings.csv\")\n",
    "# additional filter for subset_col\n",
    "AML_cell_lines = pd.read_csv(\"AML_cell_types.csv\")['0'].to_list()\n",
    "\n",
    "# find AML cell types in imported AML line line list\n",
    "assay_data_ = assay_data[assay_data[\"BAO Format\"]==\"cell-based format\"]\n",
    "cell_lines_all = assay_data_[\"Cell Type\"].to_list()\n",
    "cell_lines_AML = list(set(cell_lines_all).intersection(AML_cell_lines))"
   ]
  },
  {
   "cell_type": "markdown",
   "id": "a7ac5a86-eaa7-4da5-b57b-2a1d7d109a6b",
   "metadata": {},
   "source": [
    "## Exploration"
   ]
  },
  {
   "cell_type": "code",
   "execution_count": 3,
   "id": "b425b2f8-33a2-489c-ab8b-68f39781d339",
   "metadata": {},
   "outputs": [
    {
     "data": {
      "text/plain": [
       "array(['cell-based format', 'assay format', 'organism-based format',\n",
       "       'nucleic acid format', 'single protein format', 'cell-free format',\n",
       "       'small-molecule physicochemical format', 'tissue-based format',\n",
       "       'mitochondrion format', 'protein format', 'biochemical format',\n",
       "       'cell membrane format', 'microsome format', 'subcellular format',\n",
       "       'protein complex format'], dtype=object)"
      ]
     },
     "execution_count": 3,
     "metadata": {},
     "output_type": "execute_result"
    }
   ],
   "source": [
    "assay_data[\"BAO Format\"].unique()"
   ]
  },
  {
   "cell_type": "code",
   "execution_count": 6,
   "id": "d06d7931-c5db-473c-9733-5e3be08aa47b",
   "metadata": {},
   "outputs": [
    {
     "name": "stdout",
     "output_type": "stream",
     "text": [
      "cell-free format\n",
      "27\n"
     ]
    }
   ],
   "source": [
    "assay_type = assay_data[\"BAO Format\"].unique()[5] # 4 for later\n",
    "print(assay_type)\n",
    "assay_data[assay_data[\"BAO Format\"]==assay_type][\"Cell Type\"].unique()\n",
    "print(len(assay_data[assay_data[\"BAO Format\"]==assay_type]))"
   ]
  },
  {
   "cell_type": "markdown",
   "id": "13710d1e-af86-46ef-8259-a214892c4755",
   "metadata": {
    "tags": []
   },
   "source": [
    "## Clustering"
   ]
  },
  {
   "cell_type": "code",
   "execution_count": 7,
   "id": "702c816a-4b33-4990-bb45-e42b7911f8cf",
   "metadata": {},
   "outputs": [
    {
     "name": "stdout",
     "output_type": "stream",
     "text": [
      "Grouping by Organism\n",
      "\n",
      "Homo sapiens_A\n",
      "Calculating pairwise cosine similarities\n",
      "n = 14\n",
      "t = 7.237624155400388\n",
      "\n",
      "Homo sapiens_B\n",
      "Calculating pairwise cosine similarities\n",
      "n = 2\n",
      "t = 1.681792830507429\n",
      "\n",
      "Rattus norvegicus_A\n",
      "Calculating pairwise cosine similarities\n",
      "n = 7\n",
      "t = 4.303517070658851\n",
      "\n",
      "Rattus norvegicus_B\n",
      "\n",
      "Canis lupus familiaris_A\n",
      "\n",
      "Canis lupus familiaris_B\n",
      "\n",
      "Mus musculus_A\n",
      "\n",
      "Mus musculus_B\n",
      "\n",
      "Not specified_A\n",
      "Calculating pairwise cosine similarities\n",
      "n = 2\n",
      "t = 1.681792830507429\n",
      "\n",
      "Not specified_B\n"
     ]
    }
   ],
   "source": [
    "# import dataset and convert embeddings from string to numpy array\n",
    "assay_data = pd.read_csv(\"AML_assays_with_embeddings.csv\")\n",
    "assay_data = convert_embeddings(assay_data)\n",
    "\n",
    "# check if cell type data is available for assay format, if yes then set subsetting column to \"Cell Type\", otherwise set column to \"Organism\"\n",
    "if len(set(assay_data[assay_data[\"BAO Format\"]==assay_type][\"Cell Type\"].unique()).intersection(AML_cell_lines)) > 2:\n",
    "    subset_col = \"Cell Type\"\n",
    "else:\n",
    "    subset_col = \"Organism\"\n",
    "\n",
    "print(f\"Grouping by {subset_col}\")\n",
    "# fill nan values in dataframe with string if using \"Organism\" col as subsetting criteria\n",
    "if subset_col == \"Organism\":\n",
    "    assay_data = assay_data.fillna({\"Organism\": \"Not specified\"})\n",
    "# create dictionary containing subsets of assays based on subset_col\n",
    "if subset_col == \"Cell Type\":\n",
    "    subset_dict = create_subset_dict_2(assay_data, assay_type, subset_col, cell_lines_AML)\n",
    "else:\n",
    "    subset_dict = create_subset_dict_2(assay_data, assay_type, subset_col)\n",
    "# assign clusters within asssay subsets using hierarchical clustering\n",
    "assay_data_with_clusters = assign_clusters(subset_dict)\n",
    "# combine list of clustered subsets into a single dataframe\n",
    "assay_data_clustered = pd.concat(assay_data_with_clusters)\n",
    "# drop unneeded columns \n",
    "assay_data_clustered = assay_data_clustered.drop(labels=[\"Unnamed: 0\",\"Compounds\",\"Activities\",'PubMed ID', 'DOI', 'Year', 'Journal', 'Volume',\n",
    "       'First Page', 'Last Page'], axis=1)\n",
    "# add columns for drugs and targets associated with assay ID\n",
    "assay_data_clustered_ = add_drugs_and_targets(assay_data_clustered)\n",
    "# create filename using assay_type\n",
    "assay_type_name = assay_type.replace(\" format\",\"\").replace(\" \",\"_\")\n",
    "filename = f\"AML_{assay_type_name}_clustered.csv\"\n",
    "# export dataframe as .csv\n",
    "assay_data_clustered_.to_csv(filename, index=False)"
   ]
  },
  {
   "cell_type": "markdown",
   "id": "134b5a2b-4a3d-4de3-8c72-d5b24f1eeab6",
   "metadata": {},
   "source": [
    "## Check clustering"
   ]
  },
  {
   "cell_type": "code",
   "execution_count": null,
   "id": "ab4a8511-9418-4fa7-a3e3-de9ec5a663ea",
   "metadata": {},
   "outputs": [],
   "source": [
    "# unique assay IDs\n",
    "assay_data_clustered_[\"ChEMBL ID\"].unique().shape"
   ]
  },
  {
   "cell_type": "code",
   "execution_count": null,
   "id": "af08dc35-4b71-45e8-b32e-5d4d5f7659b2",
   "metadata": {},
   "outputs": [],
   "source": [
    "assay_data_clustered_[\"Cell Type\"].unique()"
   ]
  },
  {
   "cell_type": "code",
   "execution_count": null,
   "id": "f2199e4a-2e63-408e-85e6-524913a4b517",
   "metadata": {},
   "outputs": [],
   "source": [
    "# clusters\n",
    "assay_data_clustered_[\"embedding_cluster\"].unique().shape"
   ]
  },
  {
   "cell_type": "code",
   "execution_count": null,
   "id": "1cd25300-4c29-4af1-b91b-0a78dd47fad3",
   "metadata": {},
   "outputs": [],
   "source": [
    "import numpy as np\n",
    "\n",
    "x = assay_data_clustered_[\"embedding_cluster\"]\n",
    "unique, counts = np.unique(x, return_counts=True)\n",
    "\n",
    "print(np.asarray((unique, counts)).T)"
   ]
  },
  {
   "cell_type": "code",
   "execution_count": null,
   "id": "fb524b58-f6c8-4c8c-90fa-b84d6c065f4b",
   "metadata": {},
   "outputs": [],
   "source": [
    "import numpy as np\n",
    "\n",
    "x = assay_data_clustered_[\"embedding_cluster\"]\n",
    "unique, counts = np.unique(x, return_counts=True)\n",
    "\n",
    "for cluster,count in zip(unique, counts):\n",
    "    if count > 25:\n",
    "        print(cluster, count)"
   ]
  },
  {
   "cell_type": "code",
   "execution_count": null,
   "id": "c819f34c-48d2-4c16-b65e-d3e3ce4c915d",
   "metadata": {},
   "outputs": [],
   "source": [
    "#print all descriptions for a specific cluster\n",
    "for txt in assay_data_clustered_[assay_data_clustered_[\"embedding_cluster\"]==15].Description:\n",
    "    print(txt)"
   ]
  },
  {
   "cell_type": "code",
   "execution_count": null,
   "id": "d9ab2b44-a2aa-48bf-802b-cccacdf39e44",
   "metadata": {},
   "outputs": [],
   "source": [
    "# histogram plot to check distribution (should be relatively even, if not, clustering is likely bad)\n",
    "from matplotlib import pyplot as plt \n",
    "import numpy as np  \n",
    "   \n",
    "plt.hist(assay_data_clustered_[\"embedding_cluster\"]) \n",
    "plt.title(\"histogram\") \n",
    "plt.show()"
   ]
  },
  {
   "cell_type": "code",
   "execution_count": null,
   "id": "8d3bcea0-f2e2-4188-b6c1-c834a95b8949",
   "metadata": {},
   "outputs": [],
   "source": []
  }
 ],
 "metadata": {
  "kernelspec": {
   "display_name": "Python 3 (ipykernel)",
   "language": "python",
   "name": "python3"
  },
  "language_info": {
   "codemirror_mode": {
    "name": "ipython",
    "version": 3
   },
   "file_extension": ".py",
   "mimetype": "text/x-python",
   "name": "python",
   "nbconvert_exporter": "python",
   "pygments_lexer": "ipython3",
   "version": "3.9.12"
  }
 },
 "nbformat": 4,
 "nbformat_minor": 5
}
