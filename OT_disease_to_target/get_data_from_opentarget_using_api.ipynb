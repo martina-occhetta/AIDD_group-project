{
 "cells": [
  {
   "cell_type": "code",
   "execution_count": 1,
   "metadata": {},
   "outputs": [
    {
     "name": "stderr",
     "output_type": "stream",
     "text": [
      "/tmp/ipykernel_2308312/4203880226.py:4: DeprecationWarning: \n",
      "Pyarrow will become a required dependency of pandas in the next major release of pandas (pandas 3.0),\n",
      "(to allow more performant data types, such as the Arrow string type, and better interoperability with other libraries)\n",
      "but was not found to be installed on your system.\n",
      "If this would cause problems for you,\n",
      "please provide us feedback at https://github.com/pandas-dev/pandas/issues/54466\n",
      "        \n",
      "  import pandas as pd\n"
     ]
    }
   ],
   "source": [
    "# Import relevant libraries to make HTTP requests and parse JSON response\n",
    "import requests\n",
    "import json\n",
    "import pandas as pd"
   ]
  },
  {
   "cell_type": "code",
   "execution_count": 2,
   "metadata": {},
   "outputs": [],
   "source": [
    "# Set ensemblid variable\n",
    "efoId = \"EFO_0000222\"  # acute myeloid leukemia\n",
    "\n",
    "# Build query string to get general information about AR and genetic constraint and tractability assessments \n",
    "query_string = \"\"\"\n",
    "  query targetsAssociatedWithDisease($efoId: String!){\n",
    "    disease(efoId: $efoId){\n",
    "      id\n",
    "      name\n",
    "      associatedTargets (page: {size: 10000, index: 0}){\n",
    "        count\n",
    "        rows{\n",
    "          target{\n",
    "            id\n",
    "            approvedSymbol\n",
    "            proteinIds{\n",
    "              id\n",
    "              source\n",
    "            }\n",
    "          }\n",
    "          score\n",
    "          datasourceScores {\n",
    "            id\n",
    "            score\n",
    "          }\n",
    "        }\n",
    "      }\n",
    "    }\n",
    "  }\n",
    "\"\"\"\n",
    "\n",
    "# Set variables object of arguments to be passed to endpoint\n",
    "variables = {\"efoId\": efoId}\n",
    "\n",
    "# Set base URL of GraphQL API endpoint\n",
    "base_url = \"https://api.platform.opentargets.org/api/v4/graphql\"\n",
    "\n",
    "# Perform POST request and check status code of response\n",
    "r = requests.post(base_url, json={\"query\": query_string, \"variables\": variables})\n",
    "assert r.status_code == 200, \"Error: Response code was not 200 OK\"\n",
    "\n",
    "# Transform API response from JSON into Python dictionary and print in console\n",
    "api_response = json.loads(r.text)\n",
    "\n",
    "assert api_response['data']['disease']['associatedTargets']['count'] <= 10000, \"Error: should set a higher page size\""
   ]
  },
  {
   "cell_type": "code",
   "execution_count": 3,
   "metadata": {},
   "outputs": [
    {
     "name": "stdout",
     "output_type": "stream",
     "text": [
      "Target hits: 8311\n"
     ]
    }
   ],
   "source": [
    "print(f\"Target hits: {len(api_response['data']['disease']['associatedTargets']['rows'])}\")"
   ]
  },
  {
   "cell_type": "code",
   "execution_count": 4,
   "metadata": {},
   "outputs": [],
   "source": [
    "# Extract target information from the response\n",
    "targets = api_response['data']['disease']['associatedTargets']['rows']\n",
    "targets_dict = {}\n",
    "for idx, each_target in enumerate(targets):\n",
    "    targets_dict[idx] = {}\n",
    "    targets_dict[idx]['symbol'] = each_target['target']['approvedSymbol']\n",
    "    targets_dict[idx]['overall_score'] = each_target['score']\n",
    "    for each_datasource in each_target['datasourceScores']:\n",
    "        targets_dict[idx][f\"{each_datasource['id']}_score\"] = each_datasource['score']\n",
    "    \n",
    "    # target uniprot id\n",
    "    target_proteinIds_df = pd.DataFrame(each_target['target']['proteinIds'])\n",
    "    if target_proteinIds_df.empty:\n",
    "        targets_dict[idx]['uniprot_id'] = \"Not found\"\n",
    "        continue\n",
    "    target_uniprot_id_df = target_proteinIds_df[target_proteinIds_df['source'] == 'uniprot_swissprot']\n",
    "    if target_uniprot_id_df.empty:\n",
    "        targets_dict[idx]['uniprot_id'] = \"Not found\"\n",
    "        continue\n",
    "    targets_dict[idx]['uniprot_id'] = str(list(target_uniprot_id_df['id'].values))"
   ]
  },
  {
   "cell_type": "code",
   "execution_count": 5,
   "metadata": {},
   "outputs": [],
   "source": [
    "# Convert dictionary to dataframe and sort by overall score\n",
    "targets_df = pd.DataFrame(targets_dict).T\n",
    "main_colname = ['symbol', 'overall_score', 'uniprot_id']        # put important columns first\n",
    "rest_of_colname = targets_df.columns.drop(['symbol', 'overall_score', 'uniprot_id']).tolist()\n",
    "targets_df = targets_df[main_colname + rest_of_colname]\n",
    "targets_df.sort_values(by='overall_score', ascending=False, inplace=True)"
   ]
  },
  {
   "cell_type": "code",
   "execution_count": 6,
   "metadata": {},
   "outputs": [],
   "source": [
    "targets_df.to_csv('target_associated_with_AML.csv', index=False)"
   ]
  }
 ],
 "metadata": {
  "kernelspec": {
   "display_name": "aidd_proj",
   "language": "python",
   "name": "python3"
  },
  "language_info": {
   "codemirror_mode": {
    "name": "ipython",
    "version": 3
   },
   "file_extension": ".py",
   "mimetype": "text/x-python",
   "name": "python",
   "nbconvert_exporter": "python",
   "pygments_lexer": "ipython3",
   "version": "3.9.18"
  }
 },
 "nbformat": 4,
 "nbformat_minor": 2
}
