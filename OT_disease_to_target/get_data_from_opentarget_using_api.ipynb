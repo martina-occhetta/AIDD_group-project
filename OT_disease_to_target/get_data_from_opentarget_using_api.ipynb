{
 "cells": [
  {
   "cell_type": "code",
   "execution_count": 1,
   "metadata": {},
   "outputs": [
    {
     "name": "stdout",
     "output_type": "stream",
     "text": [
      "200\n",
      "{'data': {'target': {'id': 'ENSG00000169083', 'approvedSymbol': 'AR', 'biotype': 'protein_coding', 'geneticConstraint': [{'constraintType': 'syn', 'exp': 146.12, 'obs': 159, 'score': -0.83775, 'oe': 1.0882, 'oeLower': 0.956, 'oeUpper': 1.241}, {'constraintType': 'mis', 'exp': 350.67, 'obs': 286, 'score': 1.2272, 'oe': 0.81558, 'oeLower': 0.74, 'oeUpper': 0.899}, {'constraintType': 'lof', 'exp': 26.657, 'obs': 3, 'score': 0.98837, 'oe': 0.11254, 'oeLower': 0.05, 'oeUpper': 0.291}], 'tractability': [{'label': 'Approved Drug', 'modality': 'SM', 'value': True}, {'label': 'Advanced Clinical', 'modality': 'SM', 'value': False}, {'label': 'Phase 1 Clinical', 'modality': 'SM', 'value': False}, {'label': 'Structure with Ligand', 'modality': 'SM', 'value': False}, {'label': 'High-Quality Ligand', 'modality': 'SM', 'value': True}, {'label': 'High-Quality Pocket', 'modality': 'SM', 'value': True}, {'label': 'Med-Quality Pocket', 'modality': 'SM', 'value': False}, {'label': 'Druggable Family', 'modality': 'SM', 'value': True}, {'label': 'Approved Drug', 'modality': 'AB', 'value': False}, {'label': 'Advanced Clinical', 'modality': 'AB', 'value': False}, {'label': 'Phase 1 Clinical', 'modality': 'AB', 'value': False}, {'label': 'UniProt loc high conf', 'modality': 'AB', 'value': False}, {'label': 'GO CC high conf', 'modality': 'AB', 'value': True}, {'label': 'UniProt loc med conf', 'modality': 'AB', 'value': False}, {'label': 'UniProt SigP or TMHMM', 'modality': 'AB', 'value': False}, {'label': 'GO CC med conf', 'modality': 'AB', 'value': False}, {'label': 'Human Protein Atlas loc', 'modality': 'AB', 'value': False}, {'label': 'Approved Drug', 'modality': 'PR', 'value': False}, {'label': 'Advanced Clinical', 'modality': 'PR', 'value': True}, {'label': 'Phase 1 Clinical', 'modality': 'PR', 'value': False}, {'label': 'Literature', 'modality': 'PR', 'value': True}, {'label': 'UniProt Ubiquitination', 'modality': 'PR', 'value': True}, {'label': 'Database Ubiquitination', 'modality': 'PR', 'value': True}, {'label': 'Half-life Data', 'modality': 'PR', 'value': False}, {'label': 'Small Molecule Binder', 'modality': 'PR', 'value': True}, {'label': 'Approved Drug', 'modality': 'OC', 'value': False}, {'label': 'Advanced Clinical', 'modality': 'OC', 'value': False}, {'label': 'Phase 1 Clinical', 'modality': 'OC', 'value': False}]}}}\n"
     ]
    }
   ],
   "source": [
    "#!/usr/bin/env python3\n",
    "\n",
    "# Import relevant libraries to make HTTP requests and parse JSON response\n",
    "import requests\n",
    "import json\n",
    "\n",
    "# Set gene_id variable for AR (androgen receptor)\n",
    "gene_id = \"ENSG00000169083\"\n",
    "\n",
    "# Build query string to get general information about AR and genetic constraint and tractability assessments \n",
    "query_string = \"\"\"\n",
    "  query target($ensemblId: String!){\n",
    "    target(ensemblId: $ensemblId){\n",
    "      id\n",
    "      approvedSymbol\n",
    "      biotype\n",
    "      geneticConstraint {\n",
    "        constraintType\n",
    "        exp\n",
    "        obs\n",
    "        score\n",
    "        oe\n",
    "        oeLower\n",
    "        oeUpper\n",
    "      }\n",
    "      tractability {\n",
    "        label\n",
    "        modality\n",
    "        value\n",
    "      }\n",
    "    }\n",
    "  }\n",
    "\"\"\"\n",
    "\n",
    "# Set variables object of arguments to be passed to endpoint\n",
    "variables = {\"ensemblId\": gene_id}\n",
    "\n",
    "# Set base URL of GraphQL API endpoint\n",
    "base_url = \"https://api.platform.opentargets.org/api/v4/graphql\"\n",
    "\n",
    "# Perform POST request and check status code of response\n",
    "r = requests.post(base_url, json={\"query\": query_string, \"variables\": variables})\n",
    "print(r.status_code)\n",
    "\n",
    "# Transform API response from JSON into Python dictionary and print in console\n",
    "api_response = json.loads(r.text)\n",
    "print(api_response)"
   ]
  }
 ],
 "metadata": {
  "kernelspec": {
   "display_name": "aidd_proj",
   "language": "python",
   "name": "python3"
  },
  "language_info": {
   "codemirror_mode": {
    "name": "ipython",
    "version": 3
   },
   "file_extension": ".py",
   "mimetype": "text/x-python",
   "name": "python",
   "nbconvert_exporter": "python",
   "pygments_lexer": "ipython3",
   "version": "3.9.18"
  }
 },
 "nbformat": 4,
 "nbformat_minor": 2
}
