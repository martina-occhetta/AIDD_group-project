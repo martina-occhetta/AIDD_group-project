{
 "cells": [
  {
   "cell_type": "markdown",
   "metadata": {},
   "source": [
    "# Main purpose\n",
    "This jupyter notebook show you how to download the approved drug list by extracting the information from the cancer.gov website"
   ]
  },
  {
   "cell_type": "markdown",
   "metadata": {},
   "source": [
    "import packages"
   ]
  },
  {
   "cell_type": "code",
   "execution_count": 2,
   "metadata": {},
   "outputs": [],
   "source": [
    "from get_approved_drug import get_approved_drug"
   ]
  },
  {
   "cell_type": "code",
   "execution_count": 3,
   "metadata": {},
   "outputs": [],
   "source": [
    "## \n",
    "url = \"https://www.cancer.gov/about-cancer/treatment/drugs/leukemia#4\"\n",
    "# url = \"https://www.cancer.gov/about-cancer/treatment/drugs/lung#4\"\n",
    "##\n",
    "\n",
    "\n",
    "query = \"acute myeloid leukemia\"\n",
    "# query = \" small cell lung cancer\"\n",
    "\n",
    "approved_drugs_df = get_approved_drug(url, query)"
   ]
  },
  {
   "cell_type": "code",
   "execution_count": 5,
   "metadata": {},
   "outputs": [
    {
     "data": {
      "text/html": [
       "<div>\n",
       "<style scoped>\n",
       "    .dataframe tbody tr th:only-of-type {\n",
       "        vertical-align: middle;\n",
       "    }\n",
       "\n",
       "    .dataframe tbody tr th {\n",
       "        vertical-align: top;\n",
       "    }\n",
       "\n",
       "    .dataframe thead th {\n",
       "        text-align: right;\n",
       "    }\n",
       "</style>\n",
       "<table border=\"1\" class=\"dataframe\">\n",
       "  <thead>\n",
       "    <tr style=\"text-align: right;\">\n",
       "      <th></th>\n",
       "      <th>drug_name</th>\n",
       "      <th>resource_url</th>\n",
       "    </tr>\n",
       "  </thead>\n",
       "  <tbody>\n",
       "    <tr>\n",
       "      <th>0</th>\n",
       "      <td>Arsenic Trioxide</td>\n",
       "      <td>https://www.cancer.gov/about-cancer/treatment/...</td>\n",
       "    </tr>\n",
       "    <tr>\n",
       "      <th>1</th>\n",
       "      <td>Azacitidine</td>\n",
       "      <td>https://www.cancer.gov/about-cancer/treatment/...</td>\n",
       "    </tr>\n",
       "    <tr>\n",
       "      <th>2</th>\n",
       "      <td>Cerubidine (Daunorubicin Hydrochloride)</td>\n",
       "      <td>https://www.cancer.gov/about-cancer/treatment/...</td>\n",
       "    </tr>\n",
       "    <tr>\n",
       "      <th>3</th>\n",
       "      <td>Cyclophosphamide</td>\n",
       "      <td>https://www.cancer.gov/about-cancer/treatment/...</td>\n",
       "    </tr>\n",
       "    <tr>\n",
       "      <th>4</th>\n",
       "      <td>Cytarabine</td>\n",
       "      <td>https://www.cancer.gov/about-cancer/treatment/...</td>\n",
       "    </tr>\n",
       "  </tbody>\n",
       "</table>\n",
       "</div>"
      ],
      "text/plain": [
       "                                 drug_name  \\\n",
       "0                         Arsenic Trioxide   \n",
       "1                              Azacitidine   \n",
       "2  Cerubidine (Daunorubicin Hydrochloride)   \n",
       "3                         Cyclophosphamide   \n",
       "4                               Cytarabine   \n",
       "\n",
       "                                        resource_url  \n",
       "0  https://www.cancer.gov/about-cancer/treatment/...  \n",
       "1  https://www.cancer.gov/about-cancer/treatment/...  \n",
       "2  https://www.cancer.gov/about-cancer/treatment/...  \n",
       "3  https://www.cancer.gov/about-cancer/treatment/...  \n",
       "4  https://www.cancer.gov/about-cancer/treatment/...  "
      ]
     },
     "execution_count": 5,
     "metadata": {},
     "output_type": "execute_result"
    }
   ],
   "source": [
    "approved_drugs_df.head()"
   ]
  },
  {
   "cell_type": "code",
   "execution_count": 9,
   "metadata": {},
   "outputs": [],
   "source": [
    "# Save the dataframe\n",
    "approved_drugs_df.to_csv(f'{query.replace(\" \", \"_\")}_approved_drugs.csv', index=False)"
   ]
  }
 ],
 "metadata": {
  "kernelspec": {
   "display_name": "aidd_proj",
   "language": "python",
   "name": "python3"
  },
  "language_info": {
   "codemirror_mode": {
    "name": "ipython",
    "version": 3
   },
   "file_extension": ".py",
   "mimetype": "text/x-python",
   "name": "python",
   "nbconvert_exporter": "python",
   "pygments_lexer": "ipython3",
   "version": "3.9.18"
  }
 },
 "nbformat": 4,
 "nbformat_minor": 2
}
