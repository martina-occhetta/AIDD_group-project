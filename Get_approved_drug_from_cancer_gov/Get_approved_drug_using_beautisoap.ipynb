{
 "cells": [
  {
   "cell_type": "markdown",
   "metadata": {},
   "source": [
    "# Main purpose\n",
    "This jupyter notebook show you how to download the approved drug list by extracting the information from the cancer.gov website"
   ]
  },
  {
   "cell_type": "markdown",
   "metadata": {},
   "source": [
    "import packages"
   ]
  },
  {
   "cell_type": "code",
   "execution_count": 1,
   "metadata": {},
   "outputs": [
    {
     "name": "stderr",
     "output_type": "stream",
     "text": [
      "/tmp/ipykernel_1615467/2515121171.py:2: DeprecationWarning: \n",
      "Pyarrow will become a required dependency of pandas in the next major release of pandas (pandas 3.0),\n",
      "(to allow more performant data types, such as the Arrow string type, and better interoperability with other libraries)\n",
      "but was not found to be installed on your system.\n",
      "If this would cause problems for you,\n",
      "please provide us feedback at https://github.com/pandas-dev/pandas/issues/54466\n",
      "        \n",
      "  import pandas as pd\n"
     ]
    }
   ],
   "source": [
    "import requests\n",
    "import pandas as pd\n",
    "\n",
    "from bs4 import BeautifulSoup"
   ]
  },
  {
   "cell_type": "code",
   "execution_count": 2,
   "metadata": {},
   "outputs": [],
   "source": [
    "## \n",
    "url = \"https://www.cancer.gov/about-cancer/treatment/drugs/leukemia#4\"\n",
    "# url = \"https://www.cancer.gov/about-cancer/treatment/drugs/lung#4\"\n",
    "##\n",
    "\n",
    "page = requests.get(url)\n",
    "soup = BeautifulSoup(page.content, 'html.parser')"
   ]
  },
  {
   "cell_type": "code",
   "execution_count": 3,
   "metadata": {},
   "outputs": [
    {
     "data": {
      "text/plain": [
       "<title>Drugs Approved for Leukemia - NCI</title>"
      ]
     },
     "execution_count": 3,
     "metadata": {},
     "output_type": "execute_result"
    }
   ],
   "source": [
    "soup.title"
   ]
  },
  {
   "cell_type": "code",
   "execution_count": 4,
   "metadata": {},
   "outputs": [],
   "source": [
    "## \n",
    "query = \"acute myeloid leukemia\"\n",
    "# query = \" small cell lung cancer\"\n",
    "##\n",
    "\n",
    "# 1. Find all the subtypes based on the query\n",
    "found_info = {}\n",
    "for each_subtype in soup.find_all(name=\"h2\"):\n",
    "    each_subtype_string = each_subtype.get_text().lower()\n",
    "    if query in each_subtype_string:\n",
    "        found_info[each_subtype_string] = each_subtype.find_next_sibling()\n",
    "    else:\n",
    "        pass\n"
   ]
  },
  {
   "cell_type": "code",
   "execution_count": 5,
   "metadata": {},
   "outputs": [
    {
     "data": {
      "text/plain": [
       "dict_keys(['drugs approved for acute myeloid leukemia (aml)', 'drug combinations used in acute myeloid leukemia (aml)'])"
      ]
     },
     "execution_count": 5,
     "metadata": {},
     "output_type": "execute_result"
    }
   ],
   "source": [
    "# 2. Look at the matched subtypes\n",
    "found_info.keys()"
   ]
  },
  {
   "cell_type": "code",
   "execution_count": 6,
   "metadata": {},
   "outputs": [
    {
     "name": "stdout",
     "output_type": "stream",
     "text": [
      "drugs approved for acute myeloid leukemia (aml)\n",
      "['Arsenic Trioxide', 'Azacitidine', 'Cerubidine (Daunorubicin Hydrochloride)', 'Cyclophosphamide', 'Cytarabine']\n"
     ]
    }
   ],
   "source": [
    "# 3. Extract the information and the drug list\n",
    "key_name = [each for each in found_info.keys() if 'drugs approved' in each]\n",
    "print(key_name[0])\n",
    "approved_drugs = found_info[key_name[0]].get_text()\n",
    "approved_drugs_list = approved_drugs.split('\\n')[:-1]\n",
    "print(approved_drugs_list[0:5])"
   ]
  },
  {
   "cell_type": "code",
   "execution_count": 7,
   "metadata": {},
   "outputs": [],
   "source": [
    "# 4. Extract the URL for the drug information\n",
    "a_tags = found_info[key_name[0]].find_all(name=\"a\")\n",
    "root_url = \"https://www.cancer.gov\"\n",
    "approved_drugs_info_url = []\n",
    "for tag in a_tags:\n",
    "    if not tag.get('href').startswith(root_url):\n",
    "        approved_drugs_info_url.append(root_url + tag.get('href'))\n",
    "    else:\n",
    "        approved_drugs_info_url.append(tag.get('href'))"
   ]
  },
  {
   "cell_type": "code",
   "execution_count": 8,
   "metadata": {},
   "outputs": [
    {
     "data": {
      "text/html": [
       "<div>\n",
       "<style scoped>\n",
       "    .dataframe tbody tr th:only-of-type {\n",
       "        vertical-align: middle;\n",
       "    }\n",
       "\n",
       "    .dataframe tbody tr th {\n",
       "        vertical-align: top;\n",
       "    }\n",
       "\n",
       "    .dataframe thead th {\n",
       "        text-align: right;\n",
       "    }\n",
       "</style>\n",
       "<table border=\"1\" class=\"dataframe\">\n",
       "  <thead>\n",
       "    <tr style=\"text-align: right;\">\n",
       "      <th></th>\n",
       "      <th>drug_name</th>\n",
       "      <th>resource_url</th>\n",
       "    </tr>\n",
       "  </thead>\n",
       "  <tbody>\n",
       "    <tr>\n",
       "      <th>0</th>\n",
       "      <td>Arsenic Trioxide</td>\n",
       "      <td>https://www.cancer.gov/about-cancer/treatment/...</td>\n",
       "    </tr>\n",
       "    <tr>\n",
       "      <th>1</th>\n",
       "      <td>Azacitidine</td>\n",
       "      <td>https://www.cancer.gov/about-cancer/treatment/...</td>\n",
       "    </tr>\n",
       "    <tr>\n",
       "      <th>2</th>\n",
       "      <td>Cerubidine (Daunorubicin Hydrochloride)</td>\n",
       "      <td>https://www.cancer.gov/about-cancer/treatment/...</td>\n",
       "    </tr>\n",
       "    <tr>\n",
       "      <th>3</th>\n",
       "      <td>Cyclophosphamide</td>\n",
       "      <td>https://www.cancer.gov/about-cancer/treatment/...</td>\n",
       "    </tr>\n",
       "    <tr>\n",
       "      <th>4</th>\n",
       "      <td>Cytarabine</td>\n",
       "      <td>https://www.cancer.gov/about-cancer/treatment/...</td>\n",
       "    </tr>\n",
       "  </tbody>\n",
       "</table>\n",
       "</div>"
      ],
      "text/plain": [
       "                                 drug_name  \\\n",
       "0                         Arsenic Trioxide   \n",
       "1                              Azacitidine   \n",
       "2  Cerubidine (Daunorubicin Hydrochloride)   \n",
       "3                         Cyclophosphamide   \n",
       "4                               Cytarabine   \n",
       "\n",
       "                                        resource_url  \n",
       "0  https://www.cancer.gov/about-cancer/treatment/...  \n",
       "1  https://www.cancer.gov/about-cancer/treatment/...  \n",
       "2  https://www.cancer.gov/about-cancer/treatment/...  \n",
       "3  https://www.cancer.gov/about-cancer/treatment/...  \n",
       "4  https://www.cancer.gov/about-cancer/treatment/...  "
      ]
     },
     "execution_count": 8,
     "metadata": {},
     "output_type": "execute_result"
    }
   ],
   "source": [
    "# 5. Create a dataframe\n",
    "approved_drugs_df = pd.DataFrame([approved_drugs_list, approved_drugs_info_url]).T\n",
    "approved_drugs_df.columns = ['drug_name', 'resource_url']\n",
    "approved_drugs_df.drop_duplicates(subset=\"resource_url\", inplace=True)\n",
    "approved_drugs_df.head()"
   ]
  },
  {
   "cell_type": "code",
   "execution_count": 9,
   "metadata": {},
   "outputs": [],
   "source": [
    "# 6. Save the dataframe\n",
    "approved_drugs_df.to_csv(f'{query.replace(\" \", \"_\")}_approved_drugs.csv', index=False)"
   ]
  }
 ],
 "metadata": {
  "kernelspec": {
   "display_name": "aidd_proj",
   "language": "python",
   "name": "python3"
  },
  "language_info": {
   "codemirror_mode": {
    "name": "ipython",
    "version": 3
   },
   "file_extension": ".py",
   "mimetype": "text/x-python",
   "name": "python",
   "nbconvert_exporter": "python",
   "pygments_lexer": "ipython3",
   "version": "3.9.18"
  }
 },
 "nbformat": 4,
 "nbformat_minor": 2
}
