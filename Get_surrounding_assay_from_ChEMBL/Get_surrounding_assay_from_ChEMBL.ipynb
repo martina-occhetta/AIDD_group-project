{
 "cells": [
  {
   "cell_type": "markdown",
   "metadata": {},
   "source": [
    "# Get the ChEMBL ID"
   ]
  },
  {
   "cell_type": "code",
   "execution_count": 1,
   "metadata": {},
   "outputs": [
    {
     "name": "stderr",
     "output_type": "stream",
     "text": [
      "/tmp/ipykernel_2004283/3737118562.py:2: DeprecationWarning: \n",
      "Pyarrow will become a required dependency of pandas in the next major release of pandas (pandas 3.0),\n",
      "(to allow more performant data types, such as the Arrow string type, and better interoperability with other libraries)\n",
      "but was not found to be installed on your system.\n",
      "If this would cause problems for you,\n",
      "please provide us feedback at https://github.com/pandas-dev/pandas/issues/54466\n",
      "        \n",
      "  import pandas as pd\n"
     ]
    }
   ],
   "source": [
    "# import pkgs\n",
    "import pandas as pd\n",
    "\n",
    "from chembl_webresource_client.new_client import new_client\n",
    "from tqdm import tqdm\n",
    "\n",
    "from pd_process import str2list"
   ]
  },
  {
   "cell_type": "code",
   "execution_count": 2,
   "metadata": {},
   "outputs": [],
   "source": [
    "approved_drug_list_path = \"../Get_approved_drug_from_cancer_gov/acute_myeloid_leukemia_approved_drugs.csv\"\n",
    "approved_drug_df = pd.read_csv(approved_drug_list_path)\n",
    "approved_drug_list = approved_drug_df['drug_name'].str.lower().to_list()"
   ]
  },
  {
   "cell_type": "code",
   "execution_count": 3,
   "metadata": {},
   "outputs": [
    {
     "name": "stderr",
     "output_type": "stream",
     "text": [
      "100%|██████████| 25/25 [00:00<00:00, 253.14it/s]\n"
     ]
    }
   ],
   "source": [
    "chembl_id = []\n",
    "molecule = new_client.molecule\n",
    "for each_drug in tqdm(approved_drug_list):\n",
    "    each_drug_name_list = each_drug.replace(\")\", \"\").replace(\"\\xa0\", \" \").split(\" (\")\n",
    "    \n",
    "    temp_chembl_id_list = []\n",
    "    for each_drug_name in each_drug_name_list:\n",
    "        mols = molecule.filter(pref_name__iexact=each_drug_name)\n",
    "        if len(mols) == 0:\n",
    "            continue\n",
    "        else:\n",
    "            for mol in mols:\n",
    "                mol_chembl_id = mol['molecule_hierarchy']['parent_chembl_id']\n",
    "                mol_chembl_name = mol['pref_name']\n",
    "                mol_chembl_max_phase = mol['max_phase']\n",
    "                \n",
    "                if mol_chembl_max_phase is not None and float(mol_chembl_max_phase) == 4.0:\n",
    "                    temp_chembl_id_list.append(mol_chembl_id)\n",
    "        \n",
    "    if len(temp_chembl_id_list) == 0:\n",
    "        chembl_id.append(\"Not found\")\n",
    "    elif len(temp_chembl_id_list) == 1:\n",
    "        chembl_id.append(temp_chembl_id_list[0])\n",
    "    else:\n",
    "        chembl_id.append(str(temp_chembl_id_list))\n",
    "approved_drug_df['chembl_id_hits'] = chembl_id"
   ]
  },
  {
   "cell_type": "markdown",
   "metadata": {},
   "source": [
    "# Manually validation"
   ]
  },
  {
   "cell_type": "code",
   "execution_count": 4,
   "metadata": {},
   "outputs": [
    {
     "data": {
      "text/html": [
       "<div>\n",
       "<style scoped>\n",
       "    .dataframe tbody tr th:only-of-type {\n",
       "        vertical-align: middle;\n",
       "    }\n",
       "\n",
       "    .dataframe tbody tr th {\n",
       "        vertical-align: top;\n",
       "    }\n",
       "\n",
       "    .dataframe thead th {\n",
       "        text-align: right;\n",
       "    }\n",
       "</style>\n",
       "<table border=\"1\" class=\"dataframe\">\n",
       "  <thead>\n",
       "    <tr style=\"text-align: right;\">\n",
       "      <th></th>\n",
       "      <th>drug_name</th>\n",
       "      <th>resource_url</th>\n",
       "      <th>chembl_id_hits</th>\n",
       "    </tr>\n",
       "  </thead>\n",
       "  <tbody>\n",
       "    <tr>\n",
       "      <th>3</th>\n",
       "      <td>Cyclophosphamide</td>\n",
       "      <td>https://www.cancer.gov/about-cancer/treatment/...</td>\n",
       "      <td>['CHEMBL88', 'CHEMBL88']</td>\n",
       "    </tr>\n",
       "  </tbody>\n",
       "</table>\n",
       "</div>"
      ],
      "text/plain": [
       "          drug_name                                       resource_url  \\\n",
       "3  Cyclophosphamide  https://www.cancer.gov/about-cancer/treatment/...   \n",
       "\n",
       "             chembl_id_hits  \n",
       "3  ['CHEMBL88', 'CHEMBL88']  "
      ]
     },
     "execution_count": 4,
     "metadata": {},
     "output_type": "execute_result"
    }
   ],
   "source": [
    "approved_drug_df[approved_drug_df['chembl_id_hits'].str.contains(\"\\[\")]"
   ]
  },
  {
   "cell_type": "code",
   "execution_count": 5,
   "metadata": {},
   "outputs": [],
   "source": [
    "chembl_id[3] = \"CHEMBL88\"\n",
    "# Reason: \n",
    "# The drug name \"Cytarabine\" has two chembl_id hits, but CHEMBL88 is the main structure. \n",
    "# The other one is a alternative form with one more water molecule."
   ]
  },
  {
   "cell_type": "code",
   "execution_count": 6,
   "metadata": {},
   "outputs": [
    {
     "data": {
      "text/html": [
       "<div>\n",
       "<style scoped>\n",
       "    .dataframe tbody tr th:only-of-type {\n",
       "        vertical-align: middle;\n",
       "    }\n",
       "\n",
       "    .dataframe tbody tr th {\n",
       "        vertical-align: top;\n",
       "    }\n",
       "\n",
       "    .dataframe thead th {\n",
       "        text-align: right;\n",
       "    }\n",
       "</style>\n",
       "<table border=\"1\" class=\"dataframe\">\n",
       "  <thead>\n",
       "    <tr style=\"text-align: right;\">\n",
       "      <th></th>\n",
       "      <th>drug_name</th>\n",
       "      <th>resource_url</th>\n",
       "      <th>chembl_id_hits</th>\n",
       "    </tr>\n",
       "  </thead>\n",
       "  <tbody>\n",
       "    <tr>\n",
       "      <th>5</th>\n",
       "      <td>Daunorubicin Hydrochloride and Cytarabine Lipo...</td>\n",
       "      <td>https://www.cancer.gov/about-cancer/treatment/...</td>\n",
       "      <td>Not found</td>\n",
       "    </tr>\n",
       "    <tr>\n",
       "      <th>16</th>\n",
       "      <td>Olutasidenib</td>\n",
       "      <td>https://www.cancer.gov/about-cancer/treatment/...</td>\n",
       "      <td>Not found</td>\n",
       "    </tr>\n",
       "    <tr>\n",
       "      <th>19</th>\n",
       "      <td>Quizartinib Dihydrochloride</td>\n",
       "      <td>https://www.cancer.gov/about-cancer/treatment/...</td>\n",
       "      <td>Not found</td>\n",
       "    </tr>\n",
       "  </tbody>\n",
       "</table>\n",
       "</div>"
      ],
      "text/plain": [
       "                                            drug_name  \\\n",
       "5   Daunorubicin Hydrochloride and Cytarabine Lipo...   \n",
       "16                                       Olutasidenib   \n",
       "19                        Quizartinib Dihydrochloride   \n",
       "\n",
       "                                         resource_url chembl_id_hits  \n",
       "5   https://www.cancer.gov/about-cancer/treatment/...      Not found  \n",
       "16  https://www.cancer.gov/about-cancer/treatment/...      Not found  \n",
       "19  https://www.cancer.gov/about-cancer/treatment/...      Not found  "
      ]
     },
     "execution_count": 6,
     "metadata": {},
     "output_type": "execute_result"
    }
   ],
   "source": [
    "approved_drug_df[approved_drug_df['chembl_id_hits'] == \"Not found\"]"
   ]
  },
  {
   "cell_type": "code",
   "execution_count": 7,
   "metadata": {},
   "outputs": [],
   "source": [
    "chembl_id[5] = \"Not found\"\n",
    "# Reason:\n",
    "# Daunorubicin hydrochloride and cytarabine liposome is a combination form of daunorubicin hydrochloride and cytarabine contained inside liposomes (very tiny particles of fat). \n",
    "# Thus, this combination form is not found in ChEMBL database.\n",
    "# Furthermore, daunorubicin hydrochloride and cytarabine have been included in our list of approved drugs for acute myeloid leukemia."
   ]
  },
  {
   "cell_type": "code",
   "execution_count": 8,
   "metadata": {},
   "outputs": [
    {
     "name": "stdout",
     "output_type": "stream",
     "text": [
      "CHEMBL4297610 OLUTASIDENIB 1.0\n",
      "CHEMBL4297610\n"
     ]
    }
   ],
   "source": [
    "mols = molecule.filter(pref_name__iexact=\"Olutasidenib\")\n",
    "for mol in mols:\n",
    "    print(mol['molecule_chembl_id'], mol['pref_name'], mol['max_phase'])\n",
    "    print(mol['molecule_hierarchy']['parent_chembl_id'])\n",
    "\n",
    "chembl_id[16] = \"CHEMBL4297610\"\n",
    "# Reason:\n",
    "# Olutasidenib is a new drug and its max_phase should be 4.0. \n",
    "# The max_phase in ChEMBL database is incorrect."
   ]
  },
  {
   "cell_type": "code",
   "execution_count": 9,
   "metadata": {},
   "outputs": [
    {
     "name": "stdout",
     "output_type": "stream",
     "text": [
      "CHEMBL2105709 QUIZARTINIB DIHYDROCHLORIDE 3.0\n",
      "CHEMBL576982\n"
     ]
    }
   ],
   "source": [
    "mols = molecule.filter(pref_name__iexact=\"Quizartinib Dihydrochloride\")\n",
    "for mol in mols:\n",
    "    print(mol['molecule_chembl_id'], mol['pref_name'], mol['max_phase'])\n",
    "    print(mol['molecule_hierarchy']['parent_chembl_id'])\n",
    "\n",
    "chembl_id[19] = \"CHEMBL576982\"\n",
    "# Reason:\n",
    "# Quizartinib Dihydrochloride is a new drug and its max_phase should be 4.0. \n",
    "# The max_phase in ChEMBL database is incorrect."
   ]
  },
  {
   "cell_type": "code",
   "execution_count": 10,
   "metadata": {},
   "outputs": [],
   "source": [
    "approved_drug_df.drop(columns=['chembl_id_hits'], inplace=True)"
   ]
  },
  {
   "cell_type": "code",
   "execution_count": 11,
   "metadata": {},
   "outputs": [
    {
     "name": "stderr",
     "output_type": "stream",
     "text": [
      "100%|██████████| 25/25 [00:00<00:00, 340.41it/s]\n"
     ]
    }
   ],
   "source": [
    "approved_drug_df['parent_chembl_id'] = chembl_id\n",
    "chembl_id_synonyms = []\n",
    "for each_parent_chembl_id in tqdm(chembl_id):\n",
    "    if each_parent_chembl_id == \"Not found\":\n",
    "        chembl_id_synonyms.append(\"Not found\")\n",
    "    else:\n",
    "        mols = molecule.filter(molecule_hierarchy__parent_chembl_id__iexact=each_parent_chembl_id).only('molecule_chembl_id')\n",
    "        chembl_id_synonyms.append(str([mol['molecule_chembl_id'] for mol in mols]))\n",
    "approved_drug_df['chembl_id_synonyms'] = chembl_id_synonyms"
   ]
  },
  {
   "cell_type": "code",
   "execution_count": 12,
   "metadata": {},
   "outputs": [
    {
     "data": {
      "text/html": [
       "<div>\n",
       "<style scoped>\n",
       "    .dataframe tbody tr th:only-of-type {\n",
       "        vertical-align: middle;\n",
       "    }\n",
       "\n",
       "    .dataframe tbody tr th {\n",
       "        vertical-align: top;\n",
       "    }\n",
       "\n",
       "    .dataframe thead th {\n",
       "        text-align: right;\n",
       "    }\n",
       "</style>\n",
       "<table border=\"1\" class=\"dataframe\">\n",
       "  <thead>\n",
       "    <tr style=\"text-align: right;\">\n",
       "      <th></th>\n",
       "      <th>drug_name</th>\n",
       "      <th>resource_url</th>\n",
       "      <th>parent_chembl_id</th>\n",
       "      <th>chembl_id_synonyms</th>\n",
       "    </tr>\n",
       "  </thead>\n",
       "  <tbody>\n",
       "    <tr>\n",
       "      <th>0</th>\n",
       "      <td>Arsenic Trioxide</td>\n",
       "      <td>https://www.cancer.gov/about-cancer/treatment/...</td>\n",
       "      <td>CHEMBL2362016</td>\n",
       "      <td>['CHEMBL2362016']</td>\n",
       "    </tr>\n",
       "    <tr>\n",
       "      <th>1</th>\n",
       "      <td>Azacitidine</td>\n",
       "      <td>https://www.cancer.gov/about-cancer/treatment/...</td>\n",
       "      <td>CHEMBL1489</td>\n",
       "      <td>['CHEMBL1489', 'CHEMBL3250420', 'CHEMBL3250421']</td>\n",
       "    </tr>\n",
       "    <tr>\n",
       "      <th>2</th>\n",
       "      <td>Cerubidine (Daunorubicin Hydrochloride)</td>\n",
       "      <td>https://www.cancer.gov/about-cancer/treatment/...</td>\n",
       "      <td>CHEMBL178</td>\n",
       "      <td>['CHEMBL178', 'CHEMBL1563', 'CHEMBL1200475']</td>\n",
       "    </tr>\n",
       "    <tr>\n",
       "      <th>3</th>\n",
       "      <td>Cyclophosphamide</td>\n",
       "      <td>https://www.cancer.gov/about-cancer/treatment/...</td>\n",
       "      <td>CHEMBL88</td>\n",
       "      <td>['CHEMBL88', 'CHEMBL1200796', 'CHEMBL2364721']</td>\n",
       "    </tr>\n",
       "    <tr>\n",
       "      <th>4</th>\n",
       "      <td>Cytarabine</td>\n",
       "      <td>https://www.cancer.gov/about-cancer/treatment/...</td>\n",
       "      <td>CHEMBL803</td>\n",
       "      <td>['CHEMBL803', 'CHEMBL1256472']</td>\n",
       "    </tr>\n",
       "  </tbody>\n",
       "</table>\n",
       "</div>"
      ],
      "text/plain": [
       "                                 drug_name  \\\n",
       "0                         Arsenic Trioxide   \n",
       "1                              Azacitidine   \n",
       "2  Cerubidine (Daunorubicin Hydrochloride)   \n",
       "3                         Cyclophosphamide   \n",
       "4                               Cytarabine   \n",
       "\n",
       "                                        resource_url parent_chembl_id  \\\n",
       "0  https://www.cancer.gov/about-cancer/treatment/...    CHEMBL2362016   \n",
       "1  https://www.cancer.gov/about-cancer/treatment/...       CHEMBL1489   \n",
       "2  https://www.cancer.gov/about-cancer/treatment/...        CHEMBL178   \n",
       "3  https://www.cancer.gov/about-cancer/treatment/...         CHEMBL88   \n",
       "4  https://www.cancer.gov/about-cancer/treatment/...        CHEMBL803   \n",
       "\n",
       "                                 chembl_id_synonyms  \n",
       "0                                 ['CHEMBL2362016']  \n",
       "1  ['CHEMBL1489', 'CHEMBL3250420', 'CHEMBL3250421']  \n",
       "2      ['CHEMBL178', 'CHEMBL1563', 'CHEMBL1200475']  \n",
       "3    ['CHEMBL88', 'CHEMBL1200796', 'CHEMBL2364721']  \n",
       "4                    ['CHEMBL803', 'CHEMBL1256472']  "
      ]
     },
     "execution_count": 12,
     "metadata": {},
     "output_type": "execute_result"
    }
   ],
   "source": [
    "approved_drug_df.head()"
   ]
  },
  {
   "cell_type": "markdown",
   "metadata": {},
   "source": [
    "# Extract the assay ChEMBL ID from the activity data"
   ]
  },
  {
   "cell_type": "code",
   "execution_count": 13,
   "metadata": {},
   "outputs": [
    {
     "data": {
      "text/html": [
       "<div>\n",
       "<style scoped>\n",
       "    .dataframe tbody tr th:only-of-type {\n",
       "        vertical-align: middle;\n",
       "    }\n",
       "\n",
       "    .dataframe tbody tr th {\n",
       "        vertical-align: top;\n",
       "    }\n",
       "\n",
       "    .dataframe thead th {\n",
       "        text-align: right;\n",
       "    }\n",
       "</style>\n",
       "<table border=\"1\" class=\"dataframe\">\n",
       "  <thead>\n",
       "    <tr style=\"text-align: right;\">\n",
       "      <th></th>\n",
       "      <th>drug_name</th>\n",
       "      <th>resource_url</th>\n",
       "      <th>parent_chembl_id</th>\n",
       "      <th>chembl_id_synonyms</th>\n",
       "    </tr>\n",
       "  </thead>\n",
       "  <tbody>\n",
       "    <tr>\n",
       "      <th>5</th>\n",
       "      <td>Daunorubicin Hydrochloride and Cytarabine Lipo...</td>\n",
       "      <td>https://www.cancer.gov/about-cancer/treatment/...</td>\n",
       "      <td>Not found</td>\n",
       "      <td>Not found</td>\n",
       "    </tr>\n",
       "  </tbody>\n",
       "</table>\n",
       "</div>"
      ],
      "text/plain": [
       "                                           drug_name  \\\n",
       "5  Daunorubicin Hydrochloride and Cytarabine Lipo...   \n",
       "\n",
       "                                        resource_url parent_chembl_id  \\\n",
       "5  https://www.cancer.gov/about-cancer/treatment/...        Not found   \n",
       "\n",
       "  chembl_id_synonyms  \n",
       "5          Not found  "
      ]
     },
     "execution_count": 13,
     "metadata": {},
     "output_type": "execute_result"
    }
   ],
   "source": [
    "approved_drug_df[approved_drug_df['chembl_id_synonyms'] == \"Not found\"]"
   ]
  },
  {
   "cell_type": "code",
   "execution_count": 14,
   "metadata": {},
   "outputs": [
    {
     "name": "stderr",
     "output_type": "stream",
     "text": [
      "100%|██████████| 25/25 [00:23<00:00,  1.07it/s]\n"
     ]
    }
   ],
   "source": [
    "activity = new_client.activity\n",
    "assay_chembl_id_list = []\n",
    "for each_chembl_id_synonyms_str in tqdm(approved_drug_df['chembl_id_synonyms']):\n",
    "    if each_chembl_id_synonyms_str == \"Not found\":\n",
    "        assay_chembl_id_list.append(\"Not found\")\n",
    "    else:\n",
    "        assay_chembl_ids = []\n",
    "        for each_chembl_id in str2list(each_chembl_id_synonyms_str):\n",
    "            found_activity = activity.filter(molecule_chembl_id=each_chembl_id).only('assay_chembl_id')\n",
    "            if len(found_activity) == 0:\n",
    "                continue\n",
    "            temp = pd.DataFrame(found_activity).drop_duplicates()\n",
    "            assay_chembl_ids.extend(temp['assay_chembl_id'].to_list())\n",
    "        \n",
    "        if len(assay_chembl_ids) > 0:\n",
    "            assay_chembl_id_list.append(str(assay_chembl_ids))\n",
    "        else:\n",
    "            assay_chembl_id_list.append(\"Not found\")"
   ]
  },
  {
   "cell_type": "code",
   "execution_count": 15,
   "metadata": {},
   "outputs": [],
   "source": [
    "approved_drug_df['assay_chembl_id'] = assay_chembl_id_list"
   ]
  },
  {
   "cell_type": "markdown",
   "metadata": {},
   "source": [
    "# Manual validation"
   ]
  },
  {
   "cell_type": "code",
   "execution_count": 17,
   "metadata": {},
   "outputs": [
    {
     "data": {
      "text/html": [
       "<div>\n",
       "<style scoped>\n",
       "    .dataframe tbody tr th:only-of-type {\n",
       "        vertical-align: middle;\n",
       "    }\n",
       "\n",
       "    .dataframe tbody tr th {\n",
       "        vertical-align: top;\n",
       "    }\n",
       "\n",
       "    .dataframe thead th {\n",
       "        text-align: right;\n",
       "    }\n",
       "</style>\n",
       "<table border=\"1\" class=\"dataframe\">\n",
       "  <thead>\n",
       "    <tr style=\"text-align: right;\">\n",
       "      <th></th>\n",
       "      <th>drug_name</th>\n",
       "      <th>resource_url</th>\n",
       "      <th>parent_chembl_id</th>\n",
       "      <th>chembl_id_synonyms</th>\n",
       "      <th>assay_chembl_id</th>\n",
       "    </tr>\n",
       "  </thead>\n",
       "  <tbody>\n",
       "    <tr>\n",
       "      <th>5</th>\n",
       "      <td>Daunorubicin Hydrochloride and Cytarabine Lipo...</td>\n",
       "      <td>https://www.cancer.gov/about-cancer/treatment/...</td>\n",
       "      <td>Not found</td>\n",
       "      <td>Not found</td>\n",
       "      <td>Not found</td>\n",
       "    </tr>\n",
       "    <tr>\n",
       "      <th>22</th>\n",
       "      <td>Tisagenlecleucel (Kymriah)</td>\n",
       "      <td>https://www.cancer.gov/about-cancer/treatment/...</td>\n",
       "      <td>CHEMBL3301574</td>\n",
       "      <td>['CHEMBL3301574']</td>\n",
       "      <td>Not found</td>\n",
       "    </tr>\n",
       "  </tbody>\n",
       "</table>\n",
       "</div>"
      ],
      "text/plain": [
       "                                            drug_name  \\\n",
       "5   Daunorubicin Hydrochloride and Cytarabine Lipo...   \n",
       "22                         Tisagenlecleucel (Kymriah)   \n",
       "\n",
       "                                         resource_url parent_chembl_id  \\\n",
       "5   https://www.cancer.gov/about-cancer/treatment/...        Not found   \n",
       "22  https://www.cancer.gov/about-cancer/treatment/...    CHEMBL3301574   \n",
       "\n",
       "   chembl_id_synonyms assay_chembl_id  \n",
       "5           Not found       Not found  \n",
       "22  ['CHEMBL3301574']       Not found  "
      ]
     },
     "execution_count": 17,
     "metadata": {},
     "output_type": "execute_result"
    }
   ],
   "source": [
    "approved_drug_df[approved_drug_df['assay_chembl_id'] == \"Not found\"]\n",
    "# Reason:\n",
    "# The assay_chembl_id is not found in ChEMBL database for these drugs."
   ]
  },
  {
   "cell_type": "markdown",
   "metadata": {},
   "source": [
    "# Save csv"
   ]
  },
  {
   "cell_type": "code",
   "execution_count": 16,
   "metadata": {},
   "outputs": [],
   "source": [
    "approved_drug_df.to_csv(\"acute_myeloid_leukemia_approved_drugs_with_chembl_id.csv\", index=False)"
   ]
  },
  {
   "cell_type": "code",
   "execution_count": 3,
   "metadata": {},
   "outputs": [],
   "source": [
    "approved_drug_df = pd.read_csv(\"acute_myeloid_leukemia_approved_drugs_with_chembl_id.csv\")"
   ]
  },
  {
   "cell_type": "code",
   "execution_count": 9,
   "metadata": {},
   "outputs": [
    {
     "name": "stdout",
     "output_type": "stream",
     "text": [
      "Arsenic Trioxide : 52\n",
      "Azacitidine : 485\n",
      "Cerubidine (Daunorubicin Hydrochloride) : 1172\n",
      "Cyclophosphamide : 864\n",
      "Cytarabine : 1818\n",
      "Daurismo (Glasdegib Maleate) : 39\n",
      "Dexamethasone : 1615\n",
      "Doxorubicin Hydrochloride : 12801\n",
      "Enasidenib Mesylate : 29\n",
      "Gemtuzumab Ozogamicin : 19\n",
      "Gilteritinib Fumarate : 355\n",
      "Idamycin PFS (Idarubicin Hydrochloride) : 450\n",
      "Ivosidenib : 32\n",
      "Midostaurin : 2669\n",
      "Mitoxantrone Hydrochloride : 1495\n",
      "Olutasidenib : 32\n",
      "Pemazyre (Pemigatinib) : 134\n",
      "Prednisone : 376\n",
      "Quizartinib Dihydrochloride : 1613\n",
      "Rituxan (Rituximab) : 19\n",
      "Tabloid (Thioguanine) : 586\n",
      "Venclexta (Venetoclax) : 147\n",
      "Vincristine Sulfate : 1594\n"
     ]
    }
   ],
   "source": [
    "for i in range(len(approved_drug_df)):\n",
    "    if approved_drug_df.iloc[i]['assay_chembl_id'] != \"Not found\":\n",
    "        print(approved_drug_df.iloc[i]['drug_name'], \":\", len(str2list(approved_drug_df.iloc[i]['assay_chembl_id'])))"
   ]
  },
  {
   "cell_type": "code",
   "execution_count": null,
   "metadata": {},
   "outputs": [],
   "source": []
  }
 ],
 "metadata": {
  "kernelspec": {
   "display_name": "aidd_proj",
   "language": "python",
   "name": "python3"
  },
  "language_info": {
   "codemirror_mode": {
    "name": "ipython",
    "version": 3
   },
   "file_extension": ".py",
   "mimetype": "text/x-python",
   "name": "python",
   "nbconvert_exporter": "python",
   "pygments_lexer": "ipython3",
   "version": "3.9.18"
  }
 },
 "nbformat": 4,
 "nbformat_minor": 2
}
