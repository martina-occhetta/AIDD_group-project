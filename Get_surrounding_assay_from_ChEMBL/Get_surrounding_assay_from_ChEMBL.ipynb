{
 "cells": [
  {
   "cell_type": "code",
   "execution_count": 1,
   "metadata": {},
   "outputs": [
    {
     "name": "stderr",
     "output_type": "stream",
     "text": [
      "/tmp/ipykernel_2291360/3347620207.py:3: DeprecationWarning: \n",
      "Pyarrow will become a required dependency of pandas in the next major release of pandas (pandas 3.0),\n",
      "(to allow more performant data types, such as the Arrow string type, and better interoperability with other libraries)\n",
      "but was not found to be installed on your system.\n",
      "If this would cause problems for you,\n",
      "please provide us feedback at https://github.com/pandas-dev/pandas/issues/54466\n",
      "        \n",
      "  import pandas as pd\n"
     ]
    }
   ],
   "source": [
    "# import pkgs\n",
    "import os\n",
    "import pandas as pd\n",
    "import zipfile\n",
    "\n",
    "from chembl_webresource_client.new_client import new_client\n",
    "from tqdm import tqdm\n",
    "\n",
    "from pd_process import str2list"
   ]
  },
  {
   "cell_type": "markdown",
   "metadata": {},
   "source": [
    "# Extract the assay ChEMBL ID from the activity data"
   ]
  },
  {
   "cell_type": "code",
   "execution_count": 2,
   "metadata": {},
   "outputs": [],
   "source": [
    "disease_name = \"acute_myeloid_leukemia\""
   ]
  },
  {
   "cell_type": "code",
   "execution_count": 3,
   "metadata": {},
   "outputs": [],
   "source": [
    "# Read csv\n",
    "approved_drug_df = pd.read_csv(f\"{disease_name}_approved_drugs_with_chembl_id.csv\")"
   ]
  },
  {
   "cell_type": "code",
   "execution_count": 4,
   "metadata": {},
   "outputs": [
    {
     "data": {
      "text/html": [
       "<div>\n",
       "<style scoped>\n",
       "    .dataframe tbody tr th:only-of-type {\n",
       "        vertical-align: middle;\n",
       "    }\n",
       "\n",
       "    .dataframe tbody tr th {\n",
       "        vertical-align: top;\n",
       "    }\n",
       "\n",
       "    .dataframe thead th {\n",
       "        text-align: right;\n",
       "    }\n",
       "</style>\n",
       "<table border=\"1\" class=\"dataframe\">\n",
       "  <thead>\n",
       "    <tr style=\"text-align: right;\">\n",
       "      <th></th>\n",
       "      <th>drug_name</th>\n",
       "      <th>resource_url</th>\n",
       "      <th>parent_chembl_id</th>\n",
       "      <th>chembl_id_synonyms</th>\n",
       "      <th>specificity</th>\n",
       "    </tr>\n",
       "  </thead>\n",
       "  <tbody>\n",
       "    <tr>\n",
       "      <th>5</th>\n",
       "      <td>Daunorubicin Hydrochloride and Cytarabine Lipo...</td>\n",
       "      <td>https://www.cancer.gov/about-cancer/treatment/...</td>\n",
       "      <td>Not found</td>\n",
       "      <td>Not found</td>\n",
       "      <td>specific</td>\n",
       "    </tr>\n",
       "  </tbody>\n",
       "</table>\n",
       "</div>"
      ],
      "text/plain": [
       "                                           drug_name  \\\n",
       "5  Daunorubicin Hydrochloride and Cytarabine Lipo...   \n",
       "\n",
       "                                        resource_url parent_chembl_id  \\\n",
       "5  https://www.cancer.gov/about-cancer/treatment/...        Not found   \n",
       "\n",
       "  chembl_id_synonyms specificity  \n",
       "5          Not found    specific  "
      ]
     },
     "execution_count": 4,
     "metadata": {},
     "output_type": "execute_result"
    }
   ],
   "source": [
    "approved_drug_df[approved_drug_df['chembl_id_synonyms'] == \"Not found\"]"
   ]
  },
  {
   "cell_type": "code",
   "execution_count": 5,
   "metadata": {},
   "outputs": [
    {
     "name": "stderr",
     "output_type": "stream",
     "text": [
      "100%|██████████| 25/25 [00:17<00:00,  1.42it/s]\n"
     ]
    }
   ],
   "source": [
    "activity = new_client.activity\n",
    "assay_chembl_id_list = []\n",
    "for each_chembl_id_synonyms_str in tqdm(approved_drug_df['chembl_id_synonyms']):\n",
    "    if each_chembl_id_synonyms_str == \"Not found\":\n",
    "        assay_chembl_id_list.append(\"Not found\")\n",
    "    else:\n",
    "        assay_chembl_ids = []\n",
    "        for each_chembl_id in str2list(each_chembl_id_synonyms_str):\n",
    "            found_activity = activity.filter(molecule_chembl_id=each_chembl_id).only('assay_chembl_id')\n",
    "            if len(found_activity) == 0:\n",
    "                continue\n",
    "            temp = pd.DataFrame(found_activity).drop_duplicates()\n",
    "            assay_chembl_ids.extend(temp['assay_chembl_id'].to_list())\n",
    "        \n",
    "        # remove duplicates\n",
    "        assay_chembl_ids = pd.Series(assay_chembl_ids).drop_duplicates().to_list()\n",
    "        if len(assay_chembl_ids) > 0:\n",
    "            assay_chembl_id_list.append(str(assay_chembl_ids))\n",
    "        else:\n",
    "            assay_chembl_id_list.append(\"Not found\")"
   ]
  },
  {
   "cell_type": "code",
   "execution_count": 6,
   "metadata": {},
   "outputs": [],
   "source": [
    "approved_drug_df['assay_chembl_id'] = assay_chembl_id_list"
   ]
  },
  {
   "cell_type": "code",
   "execution_count": 7,
   "metadata": {},
   "outputs": [
    {
     "name": "stdout",
     "output_type": "stream",
     "text": [
      "(CHEMBL2362016) Arsenic Trioxide: 52\n",
      "(CHEMBL1489) Azacitidine: 481\n",
      "(CHEMBL178) Cerubidine (Daunorubicin Hydrochloride): 1142\n",
      "(CHEMBL88) Cyclophosphamide: 856\n",
      "(CHEMBL803) Cytarabine: 1804\n",
      "(CHEMBL2043437) Daurismo (Glasdegib Maleate): 39\n",
      "(CHEMBL384467) Dexamethasone: 1615\n",
      "(CHEMBL53463) Doxorubicin Hydrochloride: 12789\n",
      "(CHEMBL3989908) Enasidenib Mesylate: 27\n",
      "(CHEMBL1201506) Gemtuzumab Ozogamicin: 19\n",
      "(CHEMBL3301622) Gilteritinib Fumarate: 355\n",
      "(CHEMBL1117) Idamycin PFS (Idarubicin Hydrochloride): 439\n",
      "(CHEMBL3989958) Ivosidenib: 32\n",
      "(CHEMBL608533) Midostaurin: 2669\n",
      "(CHEMBL58) Mitoxantrone Hydrochloride: 1361\n",
      "(CHEMBL4297610) Olutasidenib: 32\n",
      "(CHEMBL4297522) Pemazyre (Pemigatinib): 134\n",
      "(CHEMBL635) Prednisone: 376\n",
      "(CHEMBL576982) Quizartinib Dihydrochloride: 1613\n",
      "(CHEMBL1201576) Rituxan (Rituximab): 19\n",
      "(CHEMBL727) Tabloid (Thioguanine): 586\n",
      "(CHEMBL3137309) Venclexta (Venetoclax): 147\n",
      "(CHEMBL90555) Vincristine Sulfate: 1585\n"
     ]
    }
   ],
   "source": [
    "for i in range(len(approved_drug_df)):\n",
    "    if approved_drug_df.iloc[i]['assay_chembl_id'] != \"Not found\":\n",
    "        print(f\"({approved_drug_df.iloc[i]['parent_chembl_id']}) {approved_drug_df.iloc[i]['drug_name']}: {len(str2list(approved_drug_df.iloc[i]['assay_chembl_id']))}\")"
   ]
  },
  {
   "cell_type": "markdown",
   "metadata": {},
   "source": [
    "# Access the assays informations"
   ]
  },
  {
   "cell_type": "markdown",
   "metadata": {},
   "source": [
    "## Direct access via chembl API"
   ]
  },
  {
   "cell_type": "code",
   "execution_count": 20,
   "metadata": {},
   "outputs": [
    {
     "name": "stderr",
     "output_type": "stream",
     "text": [
      "100%|██████████| 25/25 [15:11<00:00, 36.45s/it] \n"
     ]
    }
   ],
   "source": [
    "# Directory to extract the files\n",
    "assays_dir = './assay_infos_filed_by_compound_using_api'\n",
    "assay = new_client.assay\n",
    "\n",
    "os.makedirs(assays_dir, exist_ok=True)\n",
    "for i in tqdm(range(len(approved_drug_df))):\n",
    "    parent_chembl_id = approved_drug_df.iloc[i]['parent_chembl_id']\n",
    "    assay_chembl_id_str = approved_drug_df.iloc[i]['assay_chembl_id']\n",
    "\n",
    "    if assay_chembl_id_str == \"Not found\":\n",
    "        continue\n",
    "    else:\n",
    "        assay_chembl_id_list = str2list(assay_chembl_id_str)\n",
    "        assays_list = assay.filter(assay_chembl_id__in=assay_chembl_id_list)\n",
    "            \n",
    "        temp = pd.DataFrame(assays_list)\n",
    "        temp.to_csv(f\"{assays_dir}/{parent_chembl_id}.csv\", sep=\";\", index=False)"
   ]
  },
  {
   "cell_type": "code",
   "execution_count": null,
   "metadata": {},
   "outputs": [],
   "source": [
    "# TO DO: parallelly send query to ChEMBL API when the demand of a file is large (>1000)"
   ]
  },
  {
   "cell_type": "markdown",
   "metadata": {},
   "source": [
    "## (alternatives) Unzip backup assays"
   ]
  },
  {
   "cell_type": "code",
   "execution_count": 21,
   "metadata": {},
   "outputs": [],
   "source": [
    "# Directory containing the chembl assay summary files\n",
    "zip_dir = './assay_infos_zip_backup'\n",
    "\n",
    "# Directory to extract the files\n",
    "extract_dir = './assay_infos_filed_by_compound'\n",
    "\n",
    "# Iterate through each .zip file in the directory\n",
    "for filename in os.listdir(zip_dir):\n",
    "    if filename.endswith('.zip'):\n",
    "        # Extract the ChEMBL ID from the filename\n",
    "        chembl_id = filename.split('.')[0]  # Assuming the format is 'CHEMBLxxx.zip'\n",
    "        \n",
    "        # Create the extract directory for the current ChEMBL ID\n",
    "        extract_path = os.path.join(extract_dir, chembl_id)\n",
    "        os.makedirs(extract_path, exist_ok=True)\n",
    "        \n",
    "        # Open the .zip file\n",
    "        with zipfile.ZipFile(os.path.join(zip_dir, filename), 'r') as zip_ref:\n",
    "            # Extract all contents to the extract directory\n",
    "            zip_ref.extractall(extract_path)\n",
    "        org_filename = os.listdir(extract_path)[0]\n",
    "        os.rename(f\"{extract_path}/{org_filename}\", f\"{extract_dir}/{chembl_id}.csv\")\n",
    "        os.removedirs(f\"{extract_path}\")"
   ]
  },
  {
   "cell_type": "markdown",
   "metadata": {},
   "source": [
    "### Access the target chembl id if you using the unziped assay data  "
   ]
  },
  {
   "cell_type": "code",
   "execution_count": null,
   "metadata": {},
   "outputs": [],
   "source": [
    "# TO DO"
   ]
  },
  {
   "cell_type": "markdown",
   "metadata": {},
   "source": [
    "# (compound - assay - target) relationship"
   ]
  },
  {
   "cell_type": "code",
   "execution_count": 8,
   "metadata": {},
   "outputs": [
    {
     "name": "stderr",
     "output_type": "stream",
     "text": [
      "100%|██████████| 25/25 [00:00<00:00, 86.38it/s]\n"
     ]
    }
   ],
   "source": [
    "assays_dir = './assay_infos_filed_by_compound_using_api'\n",
    "target_chembl_id = []\n",
    "for i in tqdm(range(len(approved_drug_df))):\n",
    "    each_parent_chembl_id = approved_drug_df.iloc[i]['parent_chembl_id']\n",
    "    assay_chembl_id_str = approved_drug_df.iloc[i]['assay_chembl_id']\n",
    "\n",
    "    if assay_chembl_id_str == \"Not found\":\n",
    "        target_chembl_id.append(\"Not found\")\n",
    "    else:\n",
    "        assay_chembl_id_list = str2list(assay_chembl_id_str)\n",
    "        each_assays = pd.read_csv(f\"{assays_dir}/{each_parent_chembl_id}.csv\", sep=\";\")\n",
    "        each_target_chembl_id = each_assays['target_chembl_id'].drop_duplicates().to_list()\n",
    "        target_chembl_id.append(str(each_target_chembl_id))\n",
    "\n",
    "approved_drug_df['target_chembl_id'] = target_chembl_id"
   ]
  },
  {
   "cell_type": "markdown",
   "metadata": {},
   "source": [
    "## save csv"
   ]
  },
  {
   "cell_type": "code",
   "execution_count": 9,
   "metadata": {},
   "outputs": [],
   "source": [
    "# save\n",
    "approved_drug_df.to_csv(f\"{disease_name}_approved_drugs_with_chembl_id.csv\", index=False)"
   ]
  },
  {
   "cell_type": "markdown",
   "metadata": {},
   "source": [
    "## save subset of specific drug for AML"
   ]
  },
  {
   "cell_type": "code",
   "execution_count": 12,
   "metadata": {},
   "outputs": [],
   "source": [
    "# save\n",
    "approved_drug_df_specific = approved_drug_df[approved_drug_df['specificity'] == \"specific\"]\n",
    "approved_drug_df_specific = approved_drug_df_specific[approved_drug_df_specific['assay_chembl_id'] != \"Not found\"].reset_index(drop=True)\n",
    "approved_drug_df_specific.to_csv(f\"{disease_name}_specific_approved_drugs_with_chembl_id.csv\", index=False)\n",
    "\n",
    "# save\n",
    "approved_drug_df_specific = approved_drug_df[approved_drug_df['specificity'] == \"wide-used\"]\n",
    "approved_drug_df_specific = approved_drug_df_specific[approved_drug_df_specific['assay_chembl_id'] != \"Not found\"].reset_index(drop=True)\n",
    "approved_drug_df_specific.to_csv(f\"{disease_name}_wideused_approved_drugs_with_chembl_id.csv\", index=False)\n",
    "\n",
    "# save\n",
    "approved_drug_df_specific = approved_drug_df[approved_drug_df['specificity'] == \"acceptable\"]\n",
    "approved_drug_df_specific = approved_drug_df_specific[approved_drug_df_specific['assay_chembl_id'] != \"Not found\"].reset_index(drop=True)\n",
    "approved_drug_df_specific.to_csv(f\"{disease_name}_acceptable_approved_drugs_with_chembl_id.csv\", index=False)"
   ]
  },
  {
   "cell_type": "markdown",
   "metadata": {},
   "source": [
    "# save the relationship"
   ]
  },
  {
   "cell_type": "code",
   "execution_count": 35,
   "metadata": {},
   "outputs": [
    {
     "name": "stderr",
     "output_type": "stream",
     "text": [
      "100%|██████████| 25/25 [00:00<00:00, 83.60it/s]\n"
     ]
    }
   ],
   "source": [
    "assays_dir = './assay_infos_filed_by_compound_using_api'\n",
    "relationship_df = pd.DataFrame(columns=['parent_compound_chembl_id', 'assay_chembl_id', 'target_chembl_id'])\n",
    "\n",
    "for i in tqdm(range(len(approved_drug_df))):\n",
    "    each_parent_chembl_id = approved_drug_df.iloc[i]['parent_chembl_id']\n",
    "    assay_chembl_id_str = approved_drug_df.iloc[i]['assay_chembl_id']\n",
    "\n",
    "    if assay_chembl_id_str == \"Not found\":\n",
    "        continue\n",
    "    else:\n",
    "        assay_chembl_id_list = str2list(assay_chembl_id_str)\n",
    "        each_assays = pd.read_csv(f\"{assays_dir}/{each_parent_chembl_id}.csv\", sep=\";\")\n",
    "        each_assays['parent_compound_chembl_id'] = each_parent_chembl_id\n",
    "        each_relationship = each_assays[['parent_compound_chembl_id', 'assay_chembl_id', 'target_chembl_id']]\n",
    "        relationship_df = pd.concat([relationship_df, each_relationship])"
   ]
  },
  {
   "cell_type": "code",
   "execution_count": 37,
   "metadata": {},
   "outputs": [],
   "source": [
    "relationship_df.to_csv(\"acute_myeloid_leukemia_approved_drugs_assay_target_chembl_id_relationship.csv\", index=False)"
   ]
  },
  {
   "cell_type": "markdown",
   "metadata": {},
   "source": [
    "# Other testing (group by target ID?)"
   ]
  },
  {
   "cell_type": "code",
   "execution_count": 6,
   "metadata": {},
   "outputs": [
    {
     "data": {
      "text/plain": [
       "target_chembl_id\n",
       "CHEMBL612545     1896\n",
       "CHEMBL3879801    1562\n",
       "CHEMBL387        1191\n",
       "CHEMBL375        1129\n",
       "CHEMBL612558      804\n",
       "CHEMBL392         754\n",
       "CHEMBL395         514\n",
       "CHEMBL399         478\n",
       "CHEMBL400         418\n",
       "CHEMBL386         406\n",
       "dtype: int64"
      ]
     },
     "execution_count": 6,
     "metadata": {},
     "output_type": "execute_result"
    }
   ],
   "source": [
    "relationship_df = pd.read_csv(\"acute_myeloid_leukemia_approved_drugs_assay_target_chembl_id_relationship.csv\")\n",
    "relationship_df.groupby('target_chembl_id').size().sort_values(ascending=False).head(10)"
   ]
  }
 ],
 "metadata": {
  "kernelspec": {
   "display_name": "aidd_proj",
   "language": "python",
   "name": "python3"
  },
  "language_info": {
   "codemirror_mode": {
    "name": "ipython",
    "version": 3
   },
   "file_extension": ".py",
   "mimetype": "text/x-python",
   "name": "python",
   "nbconvert_exporter": "python",
   "pygments_lexer": "ipython3",
   "version": "3.9.18"
  }
 },
 "nbformat": 4,
 "nbformat_minor": 2
}
